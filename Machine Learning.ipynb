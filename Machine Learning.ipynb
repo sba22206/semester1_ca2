{
 "cells": [
  {
   "cell_type": "markdown",
   "id": "6eaeb0c2",
   "metadata": {},
   "source": [
    "### Machine Learning"
   ]
  },
  {
   "cell_type": "markdown",
   "id": "ff32c77b",
   "metadata": {},
   "source": [
    "This notebook trains serveral models to predict potato yields. It also utilises some dimensionality reduction and clustering."
   ]
  },
  {
   "cell_type": "markdown",
   "id": "391094a5",
   "metadata": {},
   "source": [
    "It also does a sentiment analysis on Twitter Data and performs classification machine learning."
   ]
  },
  {
   "cell_type": "code",
   "execution_count": 9,
   "id": "02950f13",
   "metadata": {},
   "outputs": [],
   "source": [
    "import pandas as pd\n",
    "import seaborn as sns\n",
    "import matplotlib.pyplot as plt\n",
    "import numpy as np\n",
    "from sklearn.model_selection import train_test_split\n",
    "from sklearn.linear_model import LinearRegression, Ridge, Lasso\n",
    "from sklearn.model_selection import GridSearchCV\n",
    "from sklearn.tree import DecisionTreeRegressor\n",
    "from sklearn.ensemble import RandomForestRegressor\n",
    "from sklearn.feature_selection import RFECV\n",
    "from sklearn.model_selection import KFold\n",
    "from sklearn.model_selection import cross_val_score\n",
    "from statsmodels.tools.eval_measures import mse, rmse\n",
    "from sklearn.cluster import KMeans\n",
    "from sklearn.decomposition import PCA"
   ]
  },
  {
   "cell_type": "code",
   "execution_count": 3,
   "id": "55520a54",
   "metadata": {},
   "outputs": [],
   "source": [
    "# Read in the data and drop un-necessary columns\n",
    "# Note I need two dataframes, one drops the metadata around crops, geo etc, the other does not\n",
    "# I need the full dataset for adding a lag later\n",
    "\n",
    "df_merged_hot_full = pd.read_csv('df_merged_hot.csv')\n",
    "\n",
    "df_merged_hot_full.drop(columns = 'Unnamed: 0', inplace = True)\n",
    "\n",
    "df_merged_hot = df_merged_hot_full.drop(columns = ['crops', 'strucpro', 'geo', 'Year'])"
   ]
  },
  {
   "cell_type": "code",
   "execution_count": 4,
   "id": "f1f82063",
   "metadata": {},
   "outputs": [
    {
     "data": {
      "text/plain": [
       "((270, 77), (68, 77), (270,), (68,))"
      ]
     },
     "execution_count": 4,
     "metadata": {},
     "output_type": "execute_result"
    }
   ],
   "source": [
    "# Producing train and test splits\n",
    "\n",
    "y = df_merged_hot['Yields']\n",
    "X = df_merged_hot.drop(columns = 'Yields')\n",
    "\n",
    "X_train, X_test, y_train, y_test = train_test_split(X, y, test_size = 0.2, random_state = 42)\n",
    "\n",
    "X_train.shape, X_test.shape, y_train.shape, y_test.shape"
   ]
  },
  {
   "cell_type": "code",
   "execution_count": 5,
   "id": "f158960f",
   "metadata": {},
   "outputs": [],
   "source": [
    "# I'll begin by running a linear regression"
   ]
  },
  {
   "cell_type": "code",
   "execution_count": 6,
   "id": "31f2b127",
   "metadata": {},
   "outputs": [
    {
     "data": {
      "text/plain": [
       "LinearRegression()"
      ]
     },
     "execution_count": 6,
     "metadata": {},
     "output_type": "execute_result"
    }
   ],
   "source": [
    "# Instantiate Linear Regression and fit model on training data\n",
    "\n",
    "lrm = LinearRegression()\n",
    "\n",
    "lrm.fit(X_train, y_train)"
   ]
  },
  {
   "cell_type": "code",
   "execution_count": 8,
   "id": "c0b7cafb",
   "metadata": {},
   "outputs": [],
   "source": [
    "# Defining a model below to print some summary information about a model\n",
    "\n",
    "def model_summary(model, x_train, y_train, x_test, y_test):\n",
    "    \n",
    "    y_test_pred = model.predict(x_test)\n",
    "    \n",
    "    print('R-Squared of the model in training set is: {}'.format(model.score(x_train, y_train)))\n",
    "    print('-----Test set statistics------')\n",
    "    print('R-squared of the model in test set is: {}'.format(model.score(x_test, y_test)))\n",
    "    print('Root mean squared error of the prediction is: {}'.format(rmse(y_test, y_test_pred)))\n",
    "    print('Mean absolute percentage error of the prediction is: {}'.format(np.mean(np.abs((y_test - y_test_pred) / y_test)) * 100))"
   ]
  },
  {
   "cell_type": "code",
   "execution_count": 10,
   "id": "2ab0f63e",
   "metadata": {},
   "outputs": [],
   "source": [
    "# This function creates a predicted vs actual scatter plot, it also displays a line of perfect fit, ie a 45 degree line\n",
    "\n",
    "def actual_vs_predicted_scat(model, x_train, y_train, x_test, y_test, title):\n",
    "    \n",
    "    sns.set_palette('colorblind')\n",
    "    \n",
    "    y_preds_train = model.predict(x_train)\n",
    "    y_preds_test = model.predict(x_test)\n",
    "    \n",
    "    fig, ax = plt.subplots(figsize = (15, 6))\n",
    "\n",
    "    ax.scatter(x = y_train, y = y_preds_train, label = 'Training Set')\n",
    "    ax.scatter(x = y_test, y = y_preds_test, label = 'Testing Set')\n",
    "\n",
    "    ax.plot([min(y_train), max(y_train)], [min(y_train), max(y_train)], ls = '--')\n",
    "\n",
    "    ax.set_xlabel('Actual Values')\n",
    "    ax.set_ylabel('Predicted Values')\n",
    "\n",
    "    ax.legend()\n",
    "\n",
    "    ax.set(title = title)\n",
    "\n",
    "    plt.show()"
   ]
  },
  {
   "cell_type": "code",
   "execution_count": 11,
   "id": "8bfc17cf",
   "metadata": {},
   "outputs": [],
   "source": [
    "# This function also return some model summary information but this time returns a dictionary\n",
    "# It also has parameters which are necessary for when it's called in the context of another function I create below\n",
    "# for doing grid search cross validation\n",
    "\n",
    "def model_dict(model, x_train, y_train, x_test, y_test, grid_search = True, group = 'Baseline'):\n",
    "    \n",
    "    model_name = model.__class__.__name__\n",
    "    if grid_search:\n",
    "        model_name = model.estimator.__class__.__name__\n",
    "    model.fit(x_train, y_train)\n",
    "    \n",
    "    y_preds_train = model.predict(x_train)\n",
    "    y_preds_test = model.predict(x_test)\n",
    "    \n",
    "    dict = {'Model': model_name,\n",
    "            'Group': group,\n",
    "            'Train_R_Squared': round(model.score(x_train, y_train), ndigits = 2),\n",
    "            'Test_R_Squared': round(model.score(x_test, y_test), ndigits = 2),\n",
    "            'Train_RMSE': round(rmse(y_train, y_preds_train), ndigits = 2),\n",
    "            'Test_RMSE': round(rmse(y_test, y_preds_test), ndigits = 2)}\n",
    "    \n",
    "    return dict\n"
   ]
  },
  {
   "cell_type": "code",
   "execution_count": 12,
   "id": "fcc561d8",
   "metadata": {},
   "outputs": [
    {
     "name": "stdout",
     "output_type": "stream",
     "text": [
      "R-Squared of the model in training set is: 0.7494974564011059\n",
      "-----Test set statistics------\n",
      "R-squared of the model in test set is: 0.6880600689939937\n",
      "Root mean squared error of the prediction is: 0.5528811120612733\n",
      "Mean absolute percentage error of the prediction is: 103.97231112451317\n"
     ]
    }
   ],
   "source": [
    "# Run model summary on our linear regression\n",
    "\n",
    "model_summary(lrm, X_train, y_train, X_test, y_test)"
   ]
  },
  {
   "cell_type": "code",
   "execution_count": 13,
   "id": "79f1afe1",
   "metadata": {},
   "outputs": [
    {
     "data": {
      "image/png": "[encoded data removed]",
      "text/plain": [
       "<Figure size 1080x432 with 1 Axes>"
      ]
     },
     "metadata": {
      "needs_background": "light"
     },
     "output_type": "display_data"
    }
   ],
   "source": [
    "# Plot a scatter plot\n",
    "\n",
    "actual_vs_predicted_scat(lrm, X_train, y_train, X_test, y_test, \n",
    "                         title = 'Regression Model - Actual vs Observed for Training & Test sets')"
   ]
  },
  {
   "cell_type": "code",
   "execution_count": 14,
   "id": "f64a87cd",
   "metadata": {},
   "outputs": [
    {
     "data": {
      "text/plain": [
       "{'Model': 'LinearRegression',\n",
       " 'Group': 'Baseline',\n",
       " 'Train_R_Squared': 0.75,\n",
       " 'Test_R_Squared': 0.69,\n",
       " 'Train_RMSE': 0.5,\n",
       " 'Test_RMSE': 0.55}"
      ]
     },
     "execution_count": 14,
     "metadata": {},
     "output_type": "execute_result"
    }
   ],
   "source": [
    "lrm_dict = model_dict(lrm, X_train, y_train, X_test, y_test, grid_search = False)\n",
    "lrm_dict"
   ]
  },
  {
   "cell_type": "code",
   "execution_count": 15,
   "id": "5315204c",
   "metadata": {},
   "outputs": [],
   "source": [
    "# This function takes a model and a dictionary of paramters which are to be hypertuned using grid search and cross validation\n",
    "# The function also calls the model_summary and actual_vs_predicted_scat functions defined earlier\n",
    "# Note that it's return value is the return value of the model_dict function\n",
    "\n",
    "def grid_search_model(model, param_grid, x_train, y_train, x_test, y_test, cv = 5, graph = False, title = '', group = 'Baseline'):\n",
    "    \n",
    "    grid_search = GridSearchCV(estimator = model, param_grid = param_grid, cv = cv)\n",
    "    grid_search.fit(x_train, y_train)\n",
    "    \n",
    "    y_preds_train = grid_search.predict(x_train)\n",
    "    y_preds_test = grid_search.predict(x_test)\n",
    "    \n",
    "    print(f'Best parameters: {grid_search.best_params_}')\n",
    "    print(f'Best score: {grid_search.best_score_}')\n",
    "    \n",
    "    summary = model_summary(grid_search, x_train, y_train, x_test, y_test)\n",
    "    model_dict_check = model_dict(grid_search, x_train, y_train, x_test, y_test, grid_search = True, group = group)\n",
    "    \n",
    "    \n",
    "    \n",
    "    if graph == True:\n",
    "        graph = actual_vs_predicted_scat(grid_search, x_train, y_train, x_test, y_test, \n",
    "                                         title = f'{title} Regression Model - Actual vs Observed for Training & Test sets')\n",
    "        \n",
    "    return model_dict_check"
   ]
  },
  {
   "cell_type": "code",
   "execution_count": 16,
   "id": "fb837797",
   "metadata": {},
   "outputs": [
    {
     "name": "stdout",
     "output_type": "stream",
     "text": [
      "Best parameters: {'alpha': 1, 'fit_intercept': False}\n",
      "Best score: 0.6438890718395788\n",
      "R-Squared of the model in training set is: 0.7478653486036957\n",
      "-----Test set statistics------\n",
      "R-squared of the model in test set is: 0.6958475380341123\n",
      "Root mean squared error of the prediction is: 0.5459362543263375\n",
      "Mean absolute percentage error of the prediction is: 99.15660276839749\n"
     ]
    }
   ],
   "source": [
    "# Let's use the function for a ridge model\n",
    "\n",
    "param_grid = {'alpha': [0.001, 0.01, 0.1, 1, 10, 100],\n",
    "              'fit_intercept': [True, False]}\n",
    "\n",
    "ridge = Ridge()\n",
    "\n",
    "ridge_model = grid_search_model(ridge, param_grid, X_train, y_train, X_test, y_test, graph = False, title = 'Ridge')"
   ]
  },
  {
   "cell_type": "code",
   "execution_count": 18,
   "id": "50786ae3",
   "metadata": {},
   "outputs": [
    {
     "name": "stderr",
     "output_type": "stream",
     "text": [
      "C:\\Users\\justi\\anaconda3\\lib\\site-packages\\sklearn\\linear_model\\_coordinate_descent.py:647: ConvergenceWarning: Objective did not converge. You might want to increase the number of iterations, check the scale of the features or consider increasing regularisation. Duality gap: 9.528e-02, tolerance: 2.111e-02\n",
      "  model = cd_fast.enet_coordinate_descent(\n",
      "C:\\Users\\justi\\anaconda3\\lib\\site-packages\\sklearn\\linear_model\\_coordinate_descent.py:647: ConvergenceWarning: Objective did not converge. You might want to increase the number of iterations, check the scale of the features or consider increasing regularisation. Duality gap: 3.214e-02, tolerance: 2.178e-02\n",
      "  model = cd_fast.enet_coordinate_descent(\n",
      "C:\\Users\\justi\\anaconda3\\lib\\site-packages\\sklearn\\linear_model\\_coordinate_descent.py:647: ConvergenceWarning: Objective did not converge. You might want to increase the number of iterations, check the scale of the features or consider increasing regularisation. Duality gap: 1.273e-01, tolerance: 2.112e-02\n",
      "  model = cd_fast.enet_coordinate_descent(\n",
      "C:\\Users\\justi\\anaconda3\\lib\\site-packages\\sklearn\\linear_model\\_coordinate_descent.py:647: ConvergenceWarning: Objective did not converge. You might want to increase the number of iterations, check the scale of the features or consider increasing regularisation. Duality gap: 5.231e-01, tolerance: 2.215e-02\n",
      "  model = cd_fast.enet_coordinate_descent(\n",
      "C:\\Users\\justi\\anaconda3\\lib\\site-packages\\sklearn\\linear_model\\_coordinate_descent.py:647: ConvergenceWarning: Objective did not converge. You might want to increase the number of iterations, check the scale of the features or consider increasing regularisation. Duality gap: 7.035e-02, tolerance: 2.189e-02\n",
      "  model = cd_fast.enet_coordinate_descent(\n",
      "C:\\Users\\justi\\anaconda3\\lib\\site-packages\\sklearn\\linear_model\\_coordinate_descent.py:647: ConvergenceWarning: Objective did not converge. You might want to increase the number of iterations, check the scale of the features or consider increasing regularisation. Duality gap: 4.824e-02, tolerance: 2.147e-02\n",
      "  model = cd_fast.enet_coordinate_descent(\n"
     ]
    },
    {
     "name": "stdout",
     "output_type": "stream",
     "text": [
      "Best parameters: {'alpha': 0.001, 'fit_intercept': False}\n",
      "Best score: 0.6405472173462917\n",
      "R-Squared of the model in training set is: 0.7477285559704157\n",
      "-----Test set statistics------\n",
      "R-squared of the model in test set is: 0.6988498459589085\n",
      "Root mean squared error of the prediction is: 0.5432350865352411\n",
      "Mean absolute percentage error of the prediction is: 98.34126220186215\n"
     ]
    },
    {
     "name": "stderr",
     "output_type": "stream",
     "text": [
      "C:\\Users\\justi\\anaconda3\\lib\\site-packages\\sklearn\\linear_model\\_coordinate_descent.py:647: ConvergenceWarning: Objective did not converge. You might want to increase the number of iterations, check the scale of the features or consider increasing regularisation. Duality gap: 9.528e-02, tolerance: 2.111e-02\n",
      "  model = cd_fast.enet_coordinate_descent(\n",
      "C:\\Users\\justi\\anaconda3\\lib\\site-packages\\sklearn\\linear_model\\_coordinate_descent.py:647: ConvergenceWarning: Objective did not converge. You might want to increase the number of iterations, check the scale of the features or consider increasing regularisation. Duality gap: 3.214e-02, tolerance: 2.178e-02\n",
      "  model = cd_fast.enet_coordinate_descent(\n",
      "C:\\Users\\justi\\anaconda3\\lib\\site-packages\\sklearn\\linear_model\\_coordinate_descent.py:647: ConvergenceWarning: Objective did not converge. You might want to increase the number of iterations, check the scale of the features or consider increasing regularisation. Duality gap: 1.273e-01, tolerance: 2.112e-02\n",
      "  model = cd_fast.enet_coordinate_descent(\n",
      "C:\\Users\\justi\\anaconda3\\lib\\site-packages\\sklearn\\linear_model\\_coordinate_descent.py:647: ConvergenceWarning: Objective did not converge. You might want to increase the number of iterations, check the scale of the features or consider increasing regularisation. Duality gap: 5.231e-01, tolerance: 2.215e-02\n",
      "  model = cd_fast.enet_coordinate_descent(\n",
      "C:\\Users\\justi\\anaconda3\\lib\\site-packages\\sklearn\\linear_model\\_coordinate_descent.py:647: ConvergenceWarning: Objective did not converge. You might want to increase the number of iterations, check the scale of the features or consider increasing regularisation. Duality gap: 7.035e-02, tolerance: 2.189e-02\n",
      "  model = cd_fast.enet_coordinate_descent(\n",
      "C:\\Users\\justi\\anaconda3\\lib\\site-packages\\sklearn\\linear_model\\_coordinate_descent.py:647: ConvergenceWarning: Objective did not converge. You might want to increase the number of iterations, check the scale of the features or consider increasing regularisation. Duality gap: 4.824e-02, tolerance: 2.147e-02\n",
      "  model = cd_fast.enet_coordinate_descent(\n"
     ]
    }
   ],
   "source": [
    "# Let's try lasso regression\n",
    "# I'll use the param_grid defined above\n",
    "\n",
    "lasso = Lasso()\n",
    "\n",
    "lasso_model = grid_search_model(lasso, param_grid, X_train, y_train, X_test, y_test, graph = False, title = 'Lasso')"
   ]
  },
  {
   "cell_type": "code",
   "execution_count": 19,
   "id": "c0c2136e",
   "metadata": {},
   "outputs": [
    {
     "name": "stdout",
     "output_type": "stream",
     "text": [
      "Best parameters: {'max_depth': 8, 'min_samples_leaf': 4, 'min_samples_split': 10}\n",
      "Best score: 0.5601083559519862\n",
      "R-Squared of the model in training set is: 0.8330030964693053\n",
      "-----Test set statistics------\n",
      "R-squared of the model in test set is: 0.56033882819021\n",
      "Root mean squared error of the prediction is: 0.6563799767151699\n",
      "Mean absolute percentage error of the prediction is: 123.877786103364\n"
     ]
    }
   ],
   "source": [
    "# Let's run a decision tree regression\n",
    "\n",
    "\n",
    "param_grid = {'max_depth': [2, 4, 6, 8, 10],\n",
    "              'min_samples_split': [2, 4, 6, 8, 10],\n",
    "              'min_samples_leaf': [1, 2, 4, 6, 8]}\n",
    "\n",
    "\n",
    "dt_model = grid_search_model(DecisionTreeRegressor(), param_grid, X_train, y_train, X_test, y_test, \n",
    "                             graph = False, title = 'Decision Tree')"
   ]
  },
  {
   "cell_type": "code",
   "execution_count": 20,
   "id": "add52e81",
   "metadata": {},
   "outputs": [
    {
     "name": "stdout",
     "output_type": "stream",
     "text": [
      "Best parameters: {'max_depth': 10, 'n_estimators': 100}\n",
      "Best score: 0.6346813718565556\n",
      "R-Squared of the model in training set is: 0.9352541498091508\n",
      "-----Test set statistics------\n",
      "R-squared of the model in test set is: 0.6723207596619967\n",
      "Root mean squared error of the prediction is: 0.5666576179963779\n",
      "Mean absolute percentage error of the prediction is: 85.06503520683265\n"
     ]
    }
   ],
   "source": [
    "# Let's fit a Random Forest Regressor\n",
    "\n",
    "ran_for_reg = RandomForestRegressor()\n",
    "\n",
    "param_grid = {'n_estimators': [10, 50, 100],\n",
    "              'max_depth': [None, 5, 10]}\n",
    "\n",
    "ran_for_model = grid_search_model(RandomForestRegressor(), param_grid, X_train, y_train, X_test, y_test, \n",
    "                             graph = False, title = 'Random Forest')"
   ]
  },
  {
   "cell_type": "code",
   "execution_count": 21,
   "id": "83b74688",
   "metadata": {},
   "outputs": [],
   "source": [
    "# I want to see if including a lag of the dependent variable improves model performance"
   ]
  },
  {
   "cell_type": "code",
   "execution_count": 22,
   "id": "80dcd34e",
   "metadata": {},
   "outputs": [],
   "source": [
    "# I'll create a copy of df_merged_hot_full dataset, I need the full dataset so I can group by geo when creating lag\n",
    "\n",
    "df_merged_hot_copy = df_merged_hot_full.copy()"
   ]
  },
  {
   "cell_type": "code",
   "execution_count": 23,
   "id": "d1d57a6f",
   "metadata": {},
   "outputs": [],
   "source": [
    "# Create lag with shift method, need to drop na's that get introduced, finally I drop the columns I no longer need\n",
    "\n",
    "df_merged_hot_copy['Yields_lag'] = df_merged_hot_copy.groupby('geo').Yields.shift(periods = 1)\n",
    "\n",
    "df_merged_hot_copy.dropna(inplace = True)\n",
    "\n",
    "df_merged_hot_copy.drop(columns = ['crops', 'strucpro', 'geo', 'Year'], inplace = True)"
   ]
  },
  {
   "cell_type": "code",
   "execution_count": 24,
   "id": "5709fe1c",
   "metadata": {},
   "outputs": [
    {
     "data": {
      "text/plain": [
       "((249, 78), (63, 78), (249,), (63,))"
      ]
     },
     "execution_count": 24,
     "metadata": {},
     "output_type": "execute_result"
    }
   ],
   "source": [
    "# Create train and test splits again\n",
    "\n",
    "y = df_merged_hot_copy['Yields']\n",
    "X = df_merged_hot_copy.drop(columns = 'Yields')\n",
    "\n",
    "X_train, X_test, y_train, y_test = train_test_split(X, y, test_size = 0.2, random_state = 42)\n",
    "\n",
    "X_train.shape, X_test.shape, y_train.shape, y_test.shape"
   ]
  },
  {
   "cell_type": "code",
   "execution_count": 25,
   "id": "77fdd586",
   "metadata": {},
   "outputs": [
    {
     "data": {
      "text/plain": [
       "LinearRegression()"
      ]
     },
     "execution_count": 25,
     "metadata": {},
     "output_type": "execute_result"
    }
   ],
   "source": [
    "# Let's try linear regression again\n",
    "\n",
    "lrm = LinearRegression()\n",
    "\n",
    "lrm.fit(X_train, y_train)"
   ]
  },
  {
   "cell_type": "code",
   "execution_count": 26,
   "id": "0aa0d8e1",
   "metadata": {},
   "outputs": [
    {
     "name": "stdout",
     "output_type": "stream",
     "text": [
      "R-Squared of the model in training set is: 0.7308233826596708\n",
      "-----Test set statistics------\n",
      "R-squared of the model in test set is: 0.7862862595873201\n",
      "Root mean squared error of the prediction is: 0.47717840735862005\n",
      "Mean absolute percentage error of the prediction is: 63.830216662267084\n"
     ]
    }
   ],
   "source": [
    "# Including the lag significantly improved performance\n",
    "\n",
    "model_summary(lrm, X_train, y_train, X_test, y_test)"
   ]
  },
  {
   "cell_type": "code",
   "execution_count": 27,
   "id": "79a2be54",
   "metadata": {},
   "outputs": [
    {
     "data": {
      "image/png": "[encoded data removed]",
      "text/plain": [
       "<Figure size 1080x432 with 1 Axes>"
      ]
     },
     "metadata": {
      "needs_background": "light"
     },
     "output_type": "display_data"
    }
   ],
   "source": [
    "actual_vs_predicted_scat(lrm, X_train, y_train, X_test, y_test, \n",
    "                         title = 'Regression Model - Actual vs Observed for Training & Test sets')"
   ]
  },
  {
   "cell_type": "code",
   "execution_count": 28,
   "id": "84e028ff",
   "metadata": {},
   "outputs": [
    {
     "data": {
      "text/plain": [
       "{'Model': 'LinearRegression',\n",
       " 'Group': 'Lag',\n",
       " 'Train_R_Squared': 0.73,\n",
       " 'Test_R_Squared': 0.79,\n",
       " 'Train_RMSE': 0.52,\n",
       " 'Test_RMSE': 0.48}"
      ]
     },
     "execution_count": 28,
     "metadata": {},
     "output_type": "execute_result"
    }
   ],
   "source": [
    "# I want to create the dictionary of results, I'll later combine these into a dataframe\n",
    "\n",
    "lrm_lag = model_dict(lrm, X_train, y_train, X_test, y_test, grid_search = False, group = 'Lag')\n",
    "lrm_lag"
   ]
  },
  {
   "cell_type": "code",
   "execution_count": 29,
   "id": "9428153d",
   "metadata": {},
   "outputs": [
    {
     "name": "stdout",
     "output_type": "stream",
     "text": [
      "Best parameters: {'alpha': 10, 'fit_intercept': False}\n",
      "Best score: 0.5737007965632576\n",
      "R-Squared of the model in training set is: 0.708077085718976\n",
      "-----Test set statistics------\n",
      "R-squared of the model in test set is: 0.7828847039723195\n",
      "Root mean squared error of the prediction is: 0.4809608995502211\n",
      "Mean absolute percentage error of the prediction is: 68.24321334124895\n"
     ]
    }
   ],
   "source": [
    "# Re-running ridge regression with the lag\n",
    "\n",
    "param_grid = {'alpha': [0.001, 0.01, 0.1, 1, 10, 100],\n",
    "              'fit_intercept': [True, False]}\n",
    "\n",
    "ridge = Ridge()\n",
    "\n",
    "ridge_model_lag = grid_search_model(ridge, param_grid, X_train, y_train, X_test, y_test, graph = False, title = 'Ridge',\n",
    "                                   group = 'Lag')"
   ]
  },
  {
   "cell_type": "code",
   "execution_count": 30,
   "id": "b71fa27a",
   "metadata": {},
   "outputs": [
    {
     "name": "stderr",
     "output_type": "stream",
     "text": [
      "C:\\Users\\justi\\anaconda3\\lib\\site-packages\\sklearn\\linear_model\\_coordinate_descent.py:647: ConvergenceWarning: Objective did not converge. You might want to increase the number of iterations, check the scale of the features or consider increasing regularisation. Duality gap: 7.685e-02, tolerance: 1.812e-02\n",
      "  model = cd_fast.enet_coordinate_descent(\n",
      "C:\\Users\\justi\\anaconda3\\lib\\site-packages\\sklearn\\linear_model\\_coordinate_descent.py:647: ConvergenceWarning: Objective did not converge. You might want to increase the number of iterations, check the scale of the features or consider increasing regularisation. Duality gap: 2.425e-02, tolerance: 1.908e-02\n",
      "  model = cd_fast.enet_coordinate_descent(\n",
      "C:\\Users\\justi\\anaconda3\\lib\\site-packages\\sklearn\\linear_model\\_coordinate_descent.py:647: ConvergenceWarning: Objective did not converge. You might want to increase the number of iterations, check the scale of the features or consider increasing regularisation. Duality gap: 1.402e-01, tolerance: 1.826e-02\n",
      "  model = cd_fast.enet_coordinate_descent(\n",
      "C:\\Users\\justi\\anaconda3\\lib\\site-packages\\sklearn\\linear_model\\_coordinate_descent.py:647: ConvergenceWarning: Objective did not converge. You might want to increase the number of iterations, check the scale of the features or consider increasing regularisation. Duality gap: 7.413e-02, tolerance: 2.013e-02\n",
      "  model = cd_fast.enet_coordinate_descent(\n",
      "C:\\Users\\justi\\anaconda3\\lib\\site-packages\\sklearn\\linear_model\\_coordinate_descent.py:647: ConvergenceWarning: Objective did not converge. You might want to increase the number of iterations, check the scale of the features or consider increasing regularisation. Duality gap: 4.269e-02, tolerance: 1.947e-02\n",
      "  model = cd_fast.enet_coordinate_descent(\n",
      "C:\\Users\\justi\\anaconda3\\lib\\site-packages\\sklearn\\linear_model\\_coordinate_descent.py:647: ConvergenceWarning: Objective did not converge. You might want to increase the number of iterations, check the scale of the features or consider increasing regularisation. Duality gap: 2.137e-01, tolerance: 2.065e-02\n",
      "  model = cd_fast.enet_coordinate_descent(\n"
     ]
    },
    {
     "name": "stdout",
     "output_type": "stream",
     "text": [
      "Best parameters: {'alpha': 0.001, 'fit_intercept': True}\n",
      "Best score: 0.5590295507768828\n",
      "R-Squared of the model in training set is: 0.7268325825608793\n",
      "-----Test set statistics------\n",
      "R-squared of the model in test set is: 0.7991231442555512\n",
      "Root mean squared error of the prediction is: 0.4626254404507821\n",
      "Mean absolute percentage error of the prediction is: 61.7408708474298\n"
     ]
    },
    {
     "name": "stderr",
     "output_type": "stream",
     "text": [
      "C:\\Users\\justi\\anaconda3\\lib\\site-packages\\sklearn\\linear_model\\_coordinate_descent.py:647: ConvergenceWarning: Objective did not converge. You might want to increase the number of iterations, check the scale of the features or consider increasing regularisation. Duality gap: 7.685e-02, tolerance: 1.812e-02\n",
      "  model = cd_fast.enet_coordinate_descent(\n",
      "C:\\Users\\justi\\anaconda3\\lib\\site-packages\\sklearn\\linear_model\\_coordinate_descent.py:647: ConvergenceWarning: Objective did not converge. You might want to increase the number of iterations, check the scale of the features or consider increasing regularisation. Duality gap: 2.425e-02, tolerance: 1.908e-02\n",
      "  model = cd_fast.enet_coordinate_descent(\n",
      "C:\\Users\\justi\\anaconda3\\lib\\site-packages\\sklearn\\linear_model\\_coordinate_descent.py:647: ConvergenceWarning: Objective did not converge. You might want to increase the number of iterations, check the scale of the features or consider increasing regularisation. Duality gap: 1.402e-01, tolerance: 1.826e-02\n",
      "  model = cd_fast.enet_coordinate_descent(\n",
      "C:\\Users\\justi\\anaconda3\\lib\\site-packages\\sklearn\\linear_model\\_coordinate_descent.py:647: ConvergenceWarning: Objective did not converge. You might want to increase the number of iterations, check the scale of the features or consider increasing regularisation. Duality gap: 7.413e-02, tolerance: 2.013e-02\n",
      "  model = cd_fast.enet_coordinate_descent(\n",
      "C:\\Users\\justi\\anaconda3\\lib\\site-packages\\sklearn\\linear_model\\_coordinate_descent.py:647: ConvergenceWarning: Objective did not converge. You might want to increase the number of iterations, check the scale of the features or consider increasing regularisation. Duality gap: 4.269e-02, tolerance: 1.947e-02\n",
      "  model = cd_fast.enet_coordinate_descent(\n",
      "C:\\Users\\justi\\anaconda3\\lib\\site-packages\\sklearn\\linear_model\\_coordinate_descent.py:647: ConvergenceWarning: Objective did not converge. You might want to increase the number of iterations, check the scale of the features or consider increasing regularisation. Duality gap: 2.137e-01, tolerance: 2.065e-02\n",
      "  model = cd_fast.enet_coordinate_descent(\n"
     ]
    }
   ],
   "source": [
    "# Re-running lasso\n",
    "\n",
    "lasso = Lasso()\n",
    "\n",
    "lasso_model_lag = grid_search_model(lasso, param_grid, X_train, y_train, X_test, y_test, graph = False, title = 'Lasso',\n",
    "                                   group = 'Lag')"
   ]
  },
  {
   "cell_type": "code",
   "execution_count": 31,
   "id": "b7c7806f",
   "metadata": {},
   "outputs": [
    {
     "name": "stdout",
     "output_type": "stream",
     "text": [
      "Best parameters: {'max_depth': 2, 'min_samples_leaf': 2, 'min_samples_split': 2}\n",
      "Best score: 0.45105687075011575\n",
      "R-Squared of the model in training set is: 0.6037592131786362\n",
      "-----Test set statistics------\n",
      "R-squared of the model in test set is: 0.5944853814433737\n",
      "Root mean squared error of the prediction is: 0.6573063351834286\n",
      "Mean absolute percentage error of the prediction is: 116.3145915300144\n"
     ]
    }
   ],
   "source": [
    "# Re-running decision tree regression\n",
    "\n",
    "param_grid = {'max_depth': [2, 4, 6, 8, 10],\n",
    "              'min_samples_split': [2, 4, 6, 8, 10],\n",
    "              'min_samples_leaf': [1, 2, 4, 6, 8]}\n",
    "\n",
    "\n",
    "dt_model_lag = grid_search_model(DecisionTreeRegressor(), param_grid, X_train, y_train, X_test, y_test, \n",
    "                             graph = False, title = 'Decision Tree', group = 'Lag')"
   ]
  },
  {
   "cell_type": "code",
   "execution_count": 32,
   "id": "05014ae5",
   "metadata": {},
   "outputs": [
    {
     "name": "stdout",
     "output_type": "stream",
     "text": [
      "Best parameters: {'max_depth': 10, 'n_estimators': 100}\n",
      "Best score: 0.5314333625432491\n",
      "R-Squared of the model in training set is: 0.9337285100605163\n",
      "-----Test set statistics------\n",
      "R-squared of the model in test set is: 0.7787631932787334\n",
      "Root mean squared error of the prediction is: 0.4855044907108968\n",
      "Mean absolute percentage error of the prediction is: 62.165894583077566\n"
     ]
    }
   ],
   "source": [
    "# Re-running random forest\n",
    "\n",
    "ran_for_reg = RandomForestRegressor()\n",
    "\n",
    "param_grid = {'n_estimators': [10, 50, 100],\n",
    "              'max_depth': [None, 5, 10]}\n",
    "\n",
    "ran_for_model_lag = grid_search_model(RandomForestRegressor(), param_grid, X_train, y_train, X_test, y_test, \n",
    "                             graph = False, title = 'Random Forest', group = 'Lag')"
   ]
  },
  {
   "cell_type": "code",
   "execution_count": 33,
   "id": "75246a9f",
   "metadata": {},
   "outputs": [],
   "source": [
    "# I now try some feature selection"
   ]
  },
  {
   "cell_type": "code",
   "execution_count": 38,
   "id": "8f2687ff",
   "metadata": {},
   "outputs": [],
   "source": [
    "# Below function takes a model and runs feature selection, it then returns a dicionary with two dataframe\n",
    "# the training df with the chosen features and the test df with the chosen features\n",
    "\n",
    "def feature_selection(model, x_train, y_train, x_test, step = 1, cv = 5):\n",
    "    \n",
    "    selector = RFECV(model, step = step, cv = cv)\n",
    "    selector = selector.fit(x_train.values, y_train.values)\n",
    "    \n",
    "    x_train_selected = x_train.loc[:, selector.support_]\n",
    "    x_test_selected = x_test.loc[:, selector.support_]\n",
    "    \n",
    "    feature_dict = {'x_train': x_train_selected,\n",
    "                    'x_test': x_test_selected}\n",
    "    \n",
    "    return feature_dict"
   ]
  },
  {
   "cell_type": "code",
   "execution_count": 39,
   "id": "c4feb579",
   "metadata": {},
   "outputs": [],
   "source": [
    "# Let's try feature selection with linear regression\n",
    "\n",
    "selector_lrm = feature_selection(LinearRegression(), X_train, y_train, X_test)"
   ]
  },
  {
   "cell_type": "code",
   "execution_count": 40,
   "id": "6767b3c8",
   "metadata": {},
   "outputs": [
    {
     "data": {
      "text/plain": [
       "LinearRegression()"
      ]
     },
     "execution_count": 40,
     "metadata": {},
     "output_type": "execute_result"
    }
   ],
   "source": [
    "# I can now train a linear regression with the feature identified in selector_lrm\n",
    "\n",
    "lrm_feat = LinearRegression()\n",
    "lrm_feat.fit(selector_lrm['x_train'], y_train)"
   ]
  },
  {
   "cell_type": "code",
   "execution_count": 41,
   "id": "6a037513",
   "metadata": {},
   "outputs": [],
   "source": [
    "lrm_feat_dict = model_dict(lrm_feat, selector_lrm['x_train'], y_train, selector_lrm['x_test'], \n",
    "                           y_test, grid_search = False, group = 'Feature Engineering')"
   ]
  },
  {
   "cell_type": "code",
   "execution_count": 42,
   "id": "1aba9705",
   "metadata": {},
   "outputs": [],
   "source": [
    "# Let's try with ridge regression"
   ]
  },
  {
   "cell_type": "code",
   "execution_count": 43,
   "id": "212e95b5",
   "metadata": {},
   "outputs": [
    {
     "name": "stdout",
     "output_type": "stream",
     "text": [
      "Best parameters: {'alpha': 1, 'fit_intercept': True}\n",
      "Best score: 0.6186798853447533\n",
      "R-Squared of the model in training set is: 0.7268005870222012\n",
      "-----Test set statistics------\n",
      "R-squared of the model in test set is: 0.7938952445736388\n",
      "Root mean squared error of the prediction is: 0.4686067788413768\n",
      "Mean absolute percentage error of the prediction is: 62.455626912900065\n"
     ]
    }
   ],
   "source": [
    "selector_ridge = feature_selection(Ridge(), X_train, y_train, X_test)\n",
    "\n",
    "param_grid = {'alpha': [0.001, 0.01, 0.1, 1, 10, 100],\n",
    "              'fit_intercept': [True, False]}\n",
    "\n",
    "ridge_model_feat = grid_search_model(Ridge(), param_grid, selector_ridge['x_train'], y_train, selector_ridge['x_test'], \n",
    "                                     y_test, graph = False, title = 'Ridge', group = 'Feature Engineering')"
   ]
  },
  {
   "cell_type": "code",
   "execution_count": 44,
   "id": "003dfcdc",
   "metadata": {},
   "outputs": [],
   "source": [
    "# Let's try with lasso regression"
   ]
  },
  {
   "cell_type": "code",
   "execution_count": 45,
   "id": "04953cff",
   "metadata": {},
   "outputs": [
    {
     "name": "stdout",
     "output_type": "stream",
     "text": [
      "Best parameters: {'alpha': 0.001, 'fit_intercept': False}\n",
      "Best score: 0.5464387202300769\n",
      "R-Squared of the model in training set is: 0.5764980643398674\n",
      "-----Test set statistics------\n",
      "R-squared of the model in test set is: 0.70033913787573\n",
      "Root mean squared error of the prediction is: 0.5650404940280145\n",
      "Mean absolute percentage error of the prediction is: 69.55099167756559\n"
     ]
    }
   ],
   "source": [
    "selector_lasso = feature_selection(Lasso(), X_train, y_train, X_test)\n",
    "\n",
    "param_grid = {'alpha': [0.001, 0.01, 0.1, 1, 10, 100],\n",
    "              'fit_intercept': [True, False]}\n",
    "\n",
    "lasso_model_feat = grid_search_model(Lasso(), param_grid, selector_lasso['x_train'], y_train, selector_lasso['x_test'], \n",
    "                                     y_test, graph = False, title = 'Lasso', group = 'Feature Engineering')"
   ]
  },
  {
   "cell_type": "code",
   "execution_count": 46,
   "id": "7a4260b7",
   "metadata": {},
   "outputs": [],
   "source": [
    "# Let's try with decision trees"
   ]
  },
  {
   "cell_type": "code",
   "execution_count": 47,
   "id": "907beb54",
   "metadata": {},
   "outputs": [
    {
     "name": "stdout",
     "output_type": "stream",
     "text": [
      "Best parameters: {'max_depth': 4, 'min_samples_leaf': 4, 'min_samples_split': 10}\n",
      "Best score: 0.4700719989407983\n",
      "R-Squared of the model in training set is: 0.728600973937044\n",
      "-----Test set statistics------\n",
      "R-squared of the model in test set is: 0.664088379358891\n",
      "Root mean squared error of the prediction is: 0.5982422411097627\n",
      "Mean absolute percentage error of the prediction is: 122.92098033730888\n"
     ]
    }
   ],
   "source": [
    "selector_dt = feature_selection(DecisionTreeRegressor(), X_train, y_train, X_test)\n",
    "\n",
    "param_grid = {'max_depth': [2, 4, 6, 8, 10],\n",
    "              'min_samples_split': [2, 4, 6, 8, 10],\n",
    "              'min_samples_leaf': [1, 2, 4, 6, 8]}\n",
    "\n",
    "dt_model_feat = grid_search_model(DecisionTreeRegressor(), param_grid, selector_dt['x_train'], y_train, selector_dt['x_test'], \n",
    "                                     y_test, graph = False, title = 'Decision Tree', group = 'Feature Engineering')"
   ]
  },
  {
   "cell_type": "code",
   "execution_count": 48,
   "id": "85cb5164",
   "metadata": {},
   "outputs": [],
   "source": [
    "# Let's try with random forest regression seen as it performed best before feature selection"
   ]
  },
  {
   "cell_type": "code",
   "execution_count": 49,
   "id": "73fa149e",
   "metadata": {},
   "outputs": [
    {
     "name": "stdout",
     "output_type": "stream",
     "text": [
      "Best parameters: {'max_depth': 10, 'n_estimators': 50}\n",
      "Best score: 0.5377056234922692\n",
      "R-Squared of the model in training set is: 0.9337983676979014\n",
      "-----Test set statistics------\n",
      "R-squared of the model in test set is: 0.772537460567103\n",
      "Root mean squared error of the prediction is: 0.49228828652558054\n",
      "Mean absolute percentage error of the prediction is: 69.17213085922839\n"
     ]
    }
   ],
   "source": [
    "selector_ran_for = feature_selection(RandomForestRegressor(), X_train, y_train, X_test)\n",
    "\n",
    "param_grid = {'n_estimators': [10, 50, 100],\n",
    "              'max_depth': [None, 5, 10]}\n",
    "\n",
    "ran_for_model_feat = grid_search_model(RandomForestRegressor(), param_grid, selector_ran_for['x_train'], y_train, \n",
    "                                       selector_ran_for['x_test'], y_test, graph = False, title = 'Random Forest', \n",
    "                                       group = 'Feature Engineering')"
   ]
  },
  {
   "cell_type": "code",
   "execution_count": 50,
   "id": "7d5e69a0",
   "metadata": {},
   "outputs": [],
   "source": [
    "# Create a list with all our results dicionaries\n",
    "\n",
    "model_dict_list = [lrm_dict, ridge_model, lasso_model, dt_model, ran_for_model, lrm_lag, ridge_model_lag, \n",
    "lasso_model_lag, dt_model_lag, ran_for_model_lag, lrm_feat_dict, ridge_model_feat, lasso_model_feat,\n",
    "dt_model_feat, ran_for_model_feat]"
   ]
  },
  {
   "cell_type": "code",
   "execution_count": 51,
   "id": "84a83a04",
   "metadata": {},
   "outputs": [],
   "source": [
    "# convert to a dataframe and sort by R Squared in the test\n",
    "\n",
    "model_comp_df = pd.DataFrame(model_dict_list)\n",
    "model_comp_df.sort_values(by = 'Test_R_Squared', ascending = False, inplace = True)"
   ]
  },
  {
   "cell_type": "code",
   "execution_count": 52,
   "id": "c62c0b07",
   "metadata": {},
   "outputs": [
    {
     "data": {
      "text/html": [
       "<div>\n",
       "<style scoped>\n",
       "    .dataframe tbody tr th:only-of-type {\n",
       "        vertical-align: middle;\n",
       "    }\n",
       "\n",
       "    .dataframe tbody tr th {\n",
       "        vertical-align: top;\n",
       "    }\n",
       "\n",
       "    .dataframe thead th {\n",
       "        text-align: right;\n",
       "    }\n",
       "</style>\n",
       "<table border=\"1\" class=\"dataframe\">\n",
       "  <thead>\n",
       "    <tr style=\"text-align: right;\">\n",
       "      <th></th>\n",
       "      <th>Model</th>\n",
       "      <th>Group</th>\n",
       "      <th>Train_R_Squared</th>\n",
       "      <th>Test_R_Squared</th>\n",
       "      <th>Train_RMSE</th>\n",
       "      <th>Test_RMSE</th>\n",
       "    </tr>\n",
       "  </thead>\n",
       "  <tbody>\n",
       "    <tr>\n",
       "      <th>7</th>\n",
       "      <td>Lasso</td>\n",
       "      <td>Lag</td>\n",
       "      <td>0.73</td>\n",
       "      <td>0.80</td>\n",
       "      <td>0.52</td>\n",
       "      <td>0.46</td>\n",
       "    </tr>\n",
       "    <tr>\n",
       "      <th>10</th>\n",
       "      <td>LinearRegression</td>\n",
       "      <td>Feature Engineering</td>\n",
       "      <td>0.71</td>\n",
       "      <td>0.80</td>\n",
       "      <td>0.53</td>\n",
       "      <td>0.47</td>\n",
       "    </tr>\n",
       "    <tr>\n",
       "      <th>5</th>\n",
       "      <td>LinearRegression</td>\n",
       "      <td>Lag</td>\n",
       "      <td>0.73</td>\n",
       "      <td>0.79</td>\n",
       "      <td>0.52</td>\n",
       "      <td>0.48</td>\n",
       "    </tr>\n",
       "    <tr>\n",
       "      <th>11</th>\n",
       "      <td>Ridge</td>\n",
       "      <td>Feature Engineering</td>\n",
       "      <td>0.73</td>\n",
       "      <td>0.79</td>\n",
       "      <td>0.52</td>\n",
       "      <td>0.47</td>\n",
       "    </tr>\n",
       "    <tr>\n",
       "      <th>6</th>\n",
       "      <td>Ridge</td>\n",
       "      <td>Lag</td>\n",
       "      <td>0.71</td>\n",
       "      <td>0.78</td>\n",
       "      <td>0.54</td>\n",
       "      <td>0.48</td>\n",
       "    </tr>\n",
       "    <tr>\n",
       "      <th>14</th>\n",
       "      <td>RandomForestRegressor</td>\n",
       "      <td>Feature Engineering</td>\n",
       "      <td>0.86</td>\n",
       "      <td>0.75</td>\n",
       "      <td>0.37</td>\n",
       "      <td>0.52</td>\n",
       "    </tr>\n",
       "    <tr>\n",
       "      <th>9</th>\n",
       "      <td>RandomForestRegressor</td>\n",
       "      <td>Lag</td>\n",
       "      <td>0.86</td>\n",
       "      <td>0.74</td>\n",
       "      <td>0.37</td>\n",
       "      <td>0.52</td>\n",
       "    </tr>\n",
       "    <tr>\n",
       "      <th>1</th>\n",
       "      <td>Ridge</td>\n",
       "      <td>Baseline</td>\n",
       "      <td>0.75</td>\n",
       "      <td>0.70</td>\n",
       "      <td>0.50</td>\n",
       "      <td>0.55</td>\n",
       "    </tr>\n",
       "    <tr>\n",
       "      <th>2</th>\n",
       "      <td>Lasso</td>\n",
       "      <td>Baseline</td>\n",
       "      <td>0.75</td>\n",
       "      <td>0.70</td>\n",
       "      <td>0.50</td>\n",
       "      <td>0.54</td>\n",
       "    </tr>\n",
       "    <tr>\n",
       "      <th>4</th>\n",
       "      <td>RandomForestRegressor</td>\n",
       "      <td>Baseline</td>\n",
       "      <td>0.94</td>\n",
       "      <td>0.70</td>\n",
       "      <td>0.25</td>\n",
       "      <td>0.54</td>\n",
       "    </tr>\n",
       "    <tr>\n",
       "      <th>12</th>\n",
       "      <td>Lasso</td>\n",
       "      <td>Feature Engineering</td>\n",
       "      <td>0.58</td>\n",
       "      <td>0.70</td>\n",
       "      <td>0.65</td>\n",
       "      <td>0.57</td>\n",
       "    </tr>\n",
       "    <tr>\n",
       "      <th>0</th>\n",
       "      <td>LinearRegression</td>\n",
       "      <td>Baseline</td>\n",
       "      <td>0.75</td>\n",
       "      <td>0.69</td>\n",
       "      <td>0.50</td>\n",
       "      <td>0.55</td>\n",
       "    </tr>\n",
       "    <tr>\n",
       "      <th>13</th>\n",
       "      <td>DecisionTreeRegressor</td>\n",
       "      <td>Feature Engineering</td>\n",
       "      <td>0.73</td>\n",
       "      <td>0.66</td>\n",
       "      <td>0.52</td>\n",
       "      <td>0.60</td>\n",
       "    </tr>\n",
       "    <tr>\n",
       "      <th>8</th>\n",
       "      <td>DecisionTreeRegressor</td>\n",
       "      <td>Lag</td>\n",
       "      <td>0.60</td>\n",
       "      <td>0.59</td>\n",
       "      <td>0.63</td>\n",
       "      <td>0.66</td>\n",
       "    </tr>\n",
       "    <tr>\n",
       "      <th>3</th>\n",
       "      <td>DecisionTreeRegressor</td>\n",
       "      <td>Baseline</td>\n",
       "      <td>0.75</td>\n",
       "      <td>0.53</td>\n",
       "      <td>0.50</td>\n",
       "      <td>0.68</td>\n",
       "    </tr>\n",
       "  </tbody>\n",
       "</table>\n",
       "</div>"
      ],
      "text/plain": [
       "                    Model                Group  Train_R_Squared  \\\n",
       "7                   Lasso                  Lag             0.73   \n",
       "10       LinearRegression  Feature Engineering             0.71   \n",
       "5        LinearRegression                  Lag             0.73   \n",
       "11                  Ridge  Feature Engineering             0.73   \n",
       "6                   Ridge                  Lag             0.71   \n",
       "14  RandomForestRegressor  Feature Engineering             0.86   \n",
       "9   RandomForestRegressor                  Lag             0.86   \n",
       "1                   Ridge             Baseline             0.75   \n",
       "2                   Lasso             Baseline             0.75   \n",
       "4   RandomForestRegressor             Baseline             0.94   \n",
       "12                  Lasso  Feature Engineering             0.58   \n",
       "0        LinearRegression             Baseline             0.75   \n",
       "13  DecisionTreeRegressor  Feature Engineering             0.73   \n",
       "8   DecisionTreeRegressor                  Lag             0.60   \n",
       "3   DecisionTreeRegressor             Baseline             0.75   \n",
       "\n",
       "    Test_R_Squared  Train_RMSE  Test_RMSE  \n",
       "7             0.80        0.52       0.46  \n",
       "10            0.80        0.53       0.47  \n",
       "5             0.79        0.52       0.48  \n",
       "11            0.79        0.52       0.47  \n",
       "6             0.78        0.54       0.48  \n",
       "14            0.75        0.37       0.52  \n",
       "9             0.74        0.37       0.52  \n",
       "1             0.70        0.50       0.55  \n",
       "2             0.70        0.50       0.54  \n",
       "4             0.70        0.25       0.54  \n",
       "12            0.70        0.65       0.57  \n",
       "0             0.69        0.50       0.55  \n",
       "13            0.66        0.52       0.60  \n",
       "8             0.59        0.63       0.66  \n",
       "3             0.53        0.50       0.68  "
      ]
     },
     "execution_count": 52,
     "metadata": {},
     "output_type": "execute_result"
    }
   ],
   "source": [
    "# Best model is a lasso with a lag included\n",
    "\n",
    "model_comp_df"
   ]
  },
  {
   "cell_type": "code",
   "execution_count": 53,
   "id": "8a674c1b",
   "metadata": {},
   "outputs": [],
   "source": [
    "# I'll write this out\n",
    "\n",
    "#model_comp_df.to_csv('model_comp_df.csv')"
   ]
  },
  {
   "cell_type": "markdown",
   "id": "b4986026",
   "metadata": {},
   "source": [
    "I'll now do some dimenstionality reduction and clustering"
   ]
  },
  {
   "cell_type": "code",
   "execution_count": 54,
   "id": "52cf5a52",
   "metadata": {},
   "outputs": [],
   "source": [
    "# I want to be able to visualise my data on a graph so I'll use PCE to colapse the dimensions of my explanatory variables to 1\n",
    "\n",
    "X = df_merged_hot.drop(columns = 'Yields')\n",
    "X.head()\n",
    "\n",
    "pca = PCA(n_components=1)\n",
    "X_pca = pca.fit_transform(X)"
   ]
  },
  {
   "cell_type": "code",
   "execution_count": 55,
   "id": "3c80f3df",
   "metadata": {},
   "outputs": [
    {
     "name": "stderr",
     "output_type": "stream",
     "text": [
      "C:\\Users\\justi\\AppData\\Local\\Temp\\ipykernel_1820\\3660469584.py:4: SettingWithCopyWarning: \n",
      "A value is trying to be set on a copy of a slice from a DataFrame.\n",
      "Try using .loc[row_indexer,col_indexer] = value instead\n",
      "\n",
      "See the caveats in the documentation: https://pandas.pydata.org/pandas-docs/stable/user_guide/indexing.html#returning-a-view-versus-a-copy\n",
      "  df_yields_x_pca['X_pca'] = X_pca\n"
     ]
    },
    {
     "data": {
      "text/html": [
       "<div>\n",
       "<style scoped>\n",
       "    .dataframe tbody tr th:only-of-type {\n",
       "        vertical-align: middle;\n",
       "    }\n",
       "\n",
       "    .dataframe tbody tr th {\n",
       "        vertical-align: top;\n",
       "    }\n",
       "\n",
       "    .dataframe thead th {\n",
       "        text-align: right;\n",
       "    }\n",
       "</style>\n",
       "<table border=\"1\" class=\"dataframe\">\n",
       "  <thead>\n",
       "    <tr style=\"text-align: right;\">\n",
       "      <th></th>\n",
       "      <th>Yields</th>\n",
       "      <th>X_pca</th>\n",
       "    </tr>\n",
       "  </thead>\n",
       "  <tbody>\n",
       "    <tr>\n",
       "      <th>0</th>\n",
       "      <td>0.309926</td>\n",
       "      <td>-1.154260</td>\n",
       "    </tr>\n",
       "    <tr>\n",
       "      <th>1</th>\n",
       "      <td>0.309926</td>\n",
       "      <td>4.758122</td>\n",
       "    </tr>\n",
       "    <tr>\n",
       "      <th>2</th>\n",
       "      <td>-0.967975</td>\n",
       "      <td>-2.509003</td>\n",
       "    </tr>\n",
       "    <tr>\n",
       "      <th>3</th>\n",
       "      <td>-0.856494</td>\n",
       "      <td>3.669608</td>\n",
       "    </tr>\n",
       "    <tr>\n",
       "      <th>4</th>\n",
       "      <td>-0.310445</td>\n",
       "      <td>-0.257922</td>\n",
       "    </tr>\n",
       "  </tbody>\n",
       "</table>\n",
       "</div>"
      ],
      "text/plain": [
       "     Yields     X_pca\n",
       "0  0.309926 -1.154260\n",
       "1  0.309926  4.758122\n",
       "2 -0.967975 -2.509003\n",
       "3 -0.856494  3.669608\n",
       "4 -0.310445 -0.257922"
      ]
     },
     "execution_count": 55,
     "metadata": {},
     "output_type": "execute_result"
    }
   ],
   "source": [
    "# I'll create a new df which has my yields data and the now single dimension explantory variable\n",
    "\n",
    "df_yields_x_pca = df_merged_hot[['Yields']]\n",
    "df_yields_x_pca['X_pca'] = X_pca\n",
    "\n",
    "df_yields_x_pca.head()"
   ]
  },
  {
   "cell_type": "code",
   "execution_count": 56,
   "id": "ac39a1d4",
   "metadata": {},
   "outputs": [],
   "source": [
    "# Perform KMeans clustering, from experimentation a value of 3 works well\n",
    "\n",
    "kmeans = KMeans(n_clusters = 3)\n",
    "clusters = kmeans.fit_predict(df_yields_x_pca)"
   ]
  },
  {
   "cell_type": "code",
   "execution_count": 57,
   "id": "dbdfc550",
   "metadata": {},
   "outputs": [
    {
     "name": "stderr",
     "output_type": "stream",
     "text": [
      "C:\\Users\\justi\\AppData\\Local\\Temp\\ipykernel_1820\\2431313066.py:3: SettingWithCopyWarning: \n",
      "A value is trying to be set on a copy of a slice from a DataFrame.\n",
      "Try using .loc[row_indexer,col_indexer] = value instead\n",
      "\n",
      "See the caveats in the documentation: https://pandas.pydata.org/pandas-docs/stable/user_guide/indexing.html#returning-a-view-versus-a-copy\n",
      "  df_yields_x_pca['cluster'] = clusters\n",
      "C:\\Users\\justi\\AppData\\Local\\Temp\\ipykernel_1820\\2431313066.py:4: SettingWithCopyWarning: \n",
      "A value is trying to be set on a copy of a slice from a DataFrame.\n",
      "Try using .loc[row_indexer,col_indexer] = value instead\n",
      "\n",
      "See the caveats in the documentation: https://pandas.pydata.org/pandas-docs/stable/user_guide/indexing.html#returning-a-view-versus-a-copy\n",
      "  df_yields_x_pca['geo'] = df_merged_hot_full.geo\n"
     ]
    }
   ],
   "source": [
    "# Add the clusters and geo information to the dataset\n",
    "\n",
    "df_yields_x_pca['cluster'] = clusters\n",
    "df_yields_x_pca['geo'] = df_merged_hot_full.geo"
   ]
  },
  {
   "cell_type": "code",
   "execution_count": 58,
   "id": "00f8925e",
   "metadata": {},
   "outputs": [
    {
     "data": {
      "image/png": "[encoded data removed]",
      "text/plain": [
       "<Figure size 864x504 with 1 Axes>"
      ]
     },
     "metadata": {
      "needs_background": "light"
     },
     "output_type": "display_data"
    }
   ],
   "source": [
    "# Produce a scatter plot\n",
    "\n",
    "# Extract the columns we need from the DataFrame\n",
    "yields = df_yields_x_pca['Yields']\n",
    "x_pca = df_yields_x_pca['X_pca']\n",
    "cluster = df_yields_x_pca['cluster']\n",
    "geo = df_yields_x_pca['geo']\n",
    "\n",
    "# Create a figure and axis\n",
    "fig, ax = plt.subplots(figsize = (12, 7))\n",
    "\n",
    "# Scatter plot the yield and X_pca values, coloring the points by cluster\n",
    "ax.scatter(x_pca, yields, c=cluster)\n",
    "\n",
    "# Highlight the points with geo == 'IE' with an x\n",
    "ie_mask = geo == 'IE'\n",
    "ax.scatter(x_pca[ie_mask], yields[ie_mask], marker='x', c='g', label='Ireland')\n",
    "\n",
    "# Add a legend\n",
    "ax.legend()\n",
    "ax.set_xlabel('X_PCA')\n",
    "ax.set_ylabel('Potato Yields')\n",
    "ax.set_title('Clsutering a Scatterplot of Yields vs Explanatory Variable Projected onto 1 Dimension')\n",
    "\n",
    "# Show the plot\n",
    "plt.show()\n",
    "\n",
    "#plt.savefig('C:\\\\Users\\\\justi\\\\OneDrive\\\\Documents\\\\MSc Data Analytics\\\\Semester 1 - CA 2\\\\Plots\\\\figure25.png')"
   ]
  },
  {
   "cell_type": "markdown",
   "id": "b8aea233",
   "metadata": {},
   "source": [
    "### Sentiment Analysis"
   ]
  },
  {
   "cell_type": "markdown",
   "id": "9777ce04",
   "metadata": {},
   "source": [
    "I'll now perform a sentiment analysis on twitter data. I'll also train a logistic regression classifier."
   ]
  },
  {
   "cell_type": "code",
   "execution_count": 59,
   "id": "8b911b2e",
   "metadata": {},
   "outputs": [],
   "source": [
    "from dotenv import dotenv_values\n",
    "import requests\n",
    "import json\n",
    "import nltk\n",
    "from nltk.corpus import stopwords\n",
    "from textblob import TextBlob\n",
    "from textblob import Word\n",
    "from sklearn.feature_extraction.text import CountVectorizer\n",
    "from sklearn.linear_model import LogisticRegression\n",
    "from sklearn.metrics import confusion_matrix"
   ]
  },
  {
   "cell_type": "code",
   "execution_count": 60,
   "id": "2a5994fe",
   "metadata": {},
   "outputs": [],
   "source": [
    "# This .env file contains my twitter credentials\n",
    "\n",
    "config = dotenv_values(\"C:\\\\Users\\\\justi\\\\OneDrive\\\\Documents\\\\MSc Data Analytics\\\\Semester 1 - CA 2\\\\.env\")"
   ]
  },
  {
   "cell_type": "code",
   "execution_count": null,
   "id": "a87280c1",
   "metadata": {},
   "outputs": [],
   "source": [
    "# Set the search query and the number of tweets to retrieve\n",
    "query = \"potatoes\"\n",
    "count = 100\n",
    "\n",
    "# Set the API endpoint and the Bearer Token for authenticating the request\n",
    "endpoint = \"https://api.twitter.com/2/tweets/search/recent\"\n",
    "bearer_token = config[\"BEARER_TOKEN\"]\n",
    "\n",
    "# Set the headers for the request\n",
    "headers = {\n",
    "    \"Authorization\": f\"Bearer {bearer_token}\",\n",
    "    \"User-Agent\": \"v2RecentSearchPython\",\n",
    "}\n",
    "\n",
    "# Set the parameters for the request\n",
    "params = {\n",
    "    \"query\": query,\n",
    "    \"max_results\": count,\n",
    "    \"expansions\": \"author_id,referenced_tweets.id\",\n",
    "    \"user.fields\": \"username\",\n",
    "    \"tweet.fields\": \"public_metrics\"\n",
    "}\n",
    "\n",
    "# Make the request to the API endpoint\n",
    "response = requests.get(endpoint, headers=headers, params=params)\n",
    "\n",
    "tweet_dicts = []\n",
    "\n",
    "# Check the status code of the response\n",
    "if response.status_code == 200:\n",
    "    # If the request was successful, parse the JSON response\n",
    "    data = response.json()\n",
    "\n",
    "    # Print the tweets\n",
    "    for tweet in data[\"data\"]:\n",
    "        tweet_dict = {\n",
    "            \"id\": tweet[\"id\"],\n",
    "            \"like_count\": tweet[\"public_metrics\"][\"like_count\"],\n",
    "            \"quote_count\": tweet[\"public_metrics\"][\"quote_count\"],\n",
    "            \"retweet_count\": tweet[\"public_metrics\"][\"retweet_count\"],\n",
    "            \"text\": tweet[\"text\"]\n",
    "        }\n",
    "        tweet_dicts.append(tweet_dict)\n",
    "else:\n",
    "    # If the request was not successful, print the error message\n",
    "    print(f\"Error: {response.status_code}\")"
   ]
  },
  {
   "cell_type": "code",
   "execution_count": null,
   "id": "02ce31b9",
   "metadata": {},
   "outputs": [],
   "source": [
    "# Converted tweet_dicts to a dataframe\n",
    "\n",
    "tweets_df = pd.DataFrame(tweet_dicts)"
   ]
  },
  {
   "cell_type": "code",
   "execution_count": null,
   "id": "1892f17d",
   "metadata": {},
   "outputs": [],
   "source": [
    "# I'll save the dataframe as a csv file so I can reproduce my analysis with the same tweets\n",
    "#tweets_df.to_csv('tweets_df.csv)"
   ]
  },
  {
   "cell_type": "code",
   "execution_count": 61,
   "id": "a5928963",
   "metadata": {},
   "outputs": [],
   "source": [
    "tweets_df = pd.read_csv('tweets_df.csv')"
   ]
  },
  {
   "cell_type": "code",
   "execution_count": 62,
   "id": "64f35970",
   "metadata": {},
   "outputs": [],
   "source": [
    "# Before doing the sentiment analysis, I need to process the text to make a clearer signal"
   ]
  },
  {
   "cell_type": "code",
   "execution_count": 63,
   "id": "02487f1a",
   "metadata": {},
   "outputs": [
    {
     "data": {
      "text/plain": [
       "0    today's lunch specials at the catawba deli inc...\n",
       "1    rt @cobratate: i got beans greens potatoes tom...\n",
       "2    rt @30vocamusic: becoming potatoes - neru http...\n",
       "3    now greens, beans, potatoes, and everything el...\n",
       "4    rt @catturd2: been cooking this all day - my f...\n",
       "Name: text, dtype: object"
      ]
     },
     "execution_count": 63,
     "metadata": {},
     "output_type": "execute_result"
    }
   ],
   "source": [
    "# First of all I'll make all words lower case\n",
    "\n",
    "tweets_df['text'] = tweets_df['text'].apply(lambda x: \" \".join(x.lower() for x in x.split()))\n",
    "tweets_df['text'].head()"
   ]
  },
  {
   "cell_type": "code",
   "execution_count": 64,
   "id": "ae9d0207",
   "metadata": {},
   "outputs": [
    {
     "name": "stderr",
     "output_type": "stream",
     "text": [
      "C:\\Users\\justi\\AppData\\Local\\Temp\\ipykernel_1820\\2817344102.py:3: FutureWarning: The default value of regex will change from True to False in a future version.\n",
      "  tweets_df['text'] = tweets_df['text'].str.replace('@\\w+', '')\n"
     ]
    },
    {
     "data": {
      "text/html": [
       "<div>\n",
       "<style scoped>\n",
       "    .dataframe tbody tr th:only-of-type {\n",
       "        vertical-align: middle;\n",
       "    }\n",
       "\n",
       "    .dataframe tbody tr th {\n",
       "        vertical-align: top;\n",
       "    }\n",
       "\n",
       "    .dataframe thead th {\n",
       "        text-align: right;\n",
       "    }\n",
       "</style>\n",
       "<table border=\"1\" class=\"dataframe\">\n",
       "  <thead>\n",
       "    <tr style=\"text-align: right;\">\n",
       "      <th></th>\n",
       "      <th>Unnamed: 0</th>\n",
       "      <th>id</th>\n",
       "      <th>like_count</th>\n",
       "      <th>quote_count</th>\n",
       "      <th>retweet_count</th>\n",
       "      <th>text</th>\n",
       "    </tr>\n",
       "  </thead>\n",
       "  <tbody>\n",
       "    <tr>\n",
       "      <th>0</th>\n",
       "      <td>0</td>\n",
       "      <td>1608843281768808448</td>\n",
       "      <td>0</td>\n",
       "      <td>0</td>\n",
       "      <td>0</td>\n",
       "      <td>today's lunch specials at the catawba deli inc...</td>\n",
       "    </tr>\n",
       "    <tr>\n",
       "      <th>1</th>\n",
       "      <td>1</td>\n",
       "      <td>1608843248776413185</td>\n",
       "      <td>0</td>\n",
       "      <td>0</td>\n",
       "      <td>3135</td>\n",
       "      <td>rt : i got beans greens potatoes tomatoes lamb...</td>\n",
       "    </tr>\n",
       "    <tr>\n",
       "      <th>2</th>\n",
       "      <td>2</td>\n",
       "      <td>1608843235346243589</td>\n",
       "      <td>0</td>\n",
       "      <td>0</td>\n",
       "      <td>29</td>\n",
       "      <td>rt : becoming potatoes - neru https://t.co/3gy...</td>\n",
       "    </tr>\n",
       "    <tr>\n",
       "      <th>3</th>\n",
       "      <td>3</td>\n",
       "      <td>1608843229591633920</td>\n",
       "      <td>0</td>\n",
       "      <td>0</td>\n",
       "      <td>0</td>\n",
       "      <td>now greens, beans, potatoes, and everything el...</td>\n",
       "    </tr>\n",
       "    <tr>\n",
       "      <th>4</th>\n",
       "      <td>4</td>\n",
       "      <td>1608843130538962945</td>\n",
       "      <td>0</td>\n",
       "      <td>0</td>\n",
       "      <td>503</td>\n",
       "      <td>rt : been cooking this all day - my famous cat...</td>\n",
       "    </tr>\n",
       "  </tbody>\n",
       "</table>\n",
       "</div>"
      ],
      "text/plain": [
       "   Unnamed: 0                   id  like_count  quote_count  retweet_count  \\\n",
       "0           0  1608843281768808448           0            0              0   \n",
       "1           1  1608843248776413185           0            0           3135   \n",
       "2           2  1608843235346243589           0            0             29   \n",
       "3           3  1608843229591633920           0            0              0   \n",
       "4           4  1608843130538962945           0            0            503   \n",
       "\n",
       "                                                text  \n",
       "0  today's lunch specials at the catawba deli inc...  \n",
       "1  rt : i got beans greens potatoes tomatoes lamb...  \n",
       "2  rt : becoming potatoes - neru https://t.co/3gy...  \n",
       "3  now greens, beans, potatoes, and everything el...  \n",
       "4  rt : been cooking this all day - my famous cat...  "
      ]
     },
     "execution_count": 64,
     "metadata": {},
     "output_type": "execute_result"
    }
   ],
   "source": [
    "# Next I'll remove twitter handles seen as these have nothing to do with the sentiment of the tweet\n",
    "\n",
    "tweets_df['text'] = tweets_df['text'].str.replace('@\\w+', '')\n",
    "tweets_df.head()"
   ]
  },
  {
   "cell_type": "code",
   "execution_count": 65,
   "id": "87952f5f",
   "metadata": {},
   "outputs": [
    {
     "name": "stderr",
     "output_type": "stream",
     "text": [
      "C:\\Users\\justi\\AppData\\Local\\Temp\\ipykernel_1820\\2661965721.py:3: FutureWarning: The default value of regex will change from True to False in a future version.\n",
      "  tweets_df['text'] = tweets_df['text'].str.replace('[^\\w\\s]', '')\n"
     ]
    },
    {
     "data": {
      "text/plain": [
       "0    todays lunch specials at the catawba deli incl...\n",
       "1    rt  i got beans greens potatoes tomatoes lambs...\n",
       "2       rt  becoming potatoes  neru httpstco3gyi1s8lt5\n",
       "3    now greens beans potatoes and everything else ...\n",
       "4    rt  been cooking this all day  my famous cattl...\n",
       "Name: text, dtype: object"
      ]
     },
     "execution_count": 65,
     "metadata": {},
     "output_type": "execute_result"
    }
   ],
   "source": [
    "# Next I'll remove punctuation\n",
    "\n",
    "tweets_df['text'] = tweets_df['text'].str.replace('[^\\w\\s]', '')\n",
    "tweets_df['text'].head()"
   ]
  },
  {
   "cell_type": "code",
   "execution_count": 66,
   "id": "accde42e",
   "metadata": {},
   "outputs": [
    {
     "data": {
      "text/plain": [
       "0    todays lunch specials catawba deli include 2 c...\n",
       "1    rt got beans greens potatoes tomatoes lambs ra...\n",
       "2         rt becoming potatoes neru httpstco3gyi1s8lt5\n",
       "3    greens beans potatoes everything else saybut s...\n",
       "4    rt cooking day famous cattle trail stew basica...\n",
       "Name: text, dtype: object"
      ]
     },
     "execution_count": 66,
     "metadata": {},
     "output_type": "execute_result"
    }
   ],
   "source": [
    "# Next I'll remove stop words, ie commonly occurring words\n",
    "\n",
    "stop = stopwords.words('english')\n",
    "\n",
    "tweets_df['text'] = tweets_df['text'].apply(lambda x: \" \".join(x for x in x.split() if x not in stop))\n",
    "tweets_df['text'].head()"
   ]
  },
  {
   "cell_type": "code",
   "execution_count": 67,
   "id": "0703991d",
   "metadata": {},
   "outputs": [
    {
     "name": "stdout",
     "output_type": "stream",
     "text": [
      "potatoes    95\n",
      "rt          43\n",
      "name        22\n",
      "like        21\n",
      "tomatoes    20\n",
      "sweet       20\n",
      "day         20\n",
      "chicken     17\n",
      "think       13\n",
      "dogs        12\n",
      "dtype: int64\n"
     ]
    },
    {
     "data": {
      "text/plain": [
       "0    todays lunch specials catawba deli include 2 c...\n",
       "1    got beans greens potatoes tomatoes lambs rams ...\n",
       "2            becoming potatoes neru httpstco3gyi1s8lt5\n",
       "3    greens beans potatoes everything else saybut s...\n",
       "4    cooking day famous cattle trail stew basically...\n",
       "Name: text, dtype: object"
      ]
     },
     "execution_count": 67,
     "metadata": {},
     "output_type": "execute_result"
    }
   ],
   "source": [
    "# I'll next look at frequently occurring words, some of which might not be relevant for sentiment analysis\n",
    "# I'll remove rt, ie retweet because it's not relevant for sentiment\n",
    "\n",
    "freq = pd.Series(' '.join(tweets_df['text']).split()).value_counts()[:10]\n",
    "print(freq)\n",
    "\n",
    "tweets_df['text'] = tweets_df['text'].apply(lambda x: \" \".join(x for x in x.split() if x not in freq.index[1]))\n",
    "\n",
    "tweets_df['text'].head()"
   ]
  },
  {
   "cell_type": "code",
   "execution_count": 68,
   "id": "d652743d",
   "metadata": {},
   "outputs": [
    {
     "name": "stdout",
     "output_type": "stream",
     "text": [
      "match                 1\n",
      "perfect               1\n",
      "say                   1\n",
      "mind                  1\n",
      "boggles               1\n",
      "httpstco7ok9poa3qs    1\n",
      "httpstcouuafagzcyg    1\n",
      "httpstcolfbvjgquin    1\n",
      "love                  1\n",
      "individually          1\n",
      "dtype: int64\n"
     ]
    },
    {
     "data": {
      "text/plain": [
       "0    todays lunch specials catawba deli include 2 c...\n",
       "1    got beans greens potatoes tomatoes lambs rams ...\n",
       "2            becoming potatoes neru httpstco3gyi1s8lt5\n",
       "3    greens beans potatoes everything else saybut s...\n",
       "4    cooking day famous cattle trail stew basically...\n",
       "Name: text, dtype: object"
      ]
     },
     "execution_count": 68,
     "metadata": {},
     "output_type": "execute_result"
    }
   ],
   "source": [
    "# Next I'll consider infrequent words\n",
    "# I only have a 100 tweets so I won't remove infrequent words just because they're infrequent\n",
    "# However, I will remove the words which start with https since these will have nothing to do with sentiment\n",
    "\n",
    "freq = pd.Series(' '.join(tweets_df['text']).split()).value_counts()[-10:]\n",
    "print(freq)\n",
    "\n",
    "words_remove = list(freq.index[freq.index.str.startswith('https')])\n",
    "\n",
    "tweets_df['text'] = tweets_df['text'].apply(lambda x: \" \".join(x for x in x.split() if x not in words_remove))\n",
    "\n",
    "tweets_df['text'].head()"
   ]
  },
  {
   "cell_type": "code",
   "execution_count": 69,
   "id": "0a0160ad",
   "metadata": {},
   "outputs": [
    {
     "data": {
      "text/plain": [
       "0    today lunch special catawba delhi include 2 ch...\n",
       "1    got beans green potatoes potatoes lambs rams h...\n",
       "2            becoming potatoes peru httpstco3gyi1s8lt5\n",
       "3    green beans potatoes everything else salut soo...\n",
       "4    cooking day famous cattle trail stew basically...\n",
       "Name: text, dtype: object"
      ]
     },
     "execution_count": 69,
     "metadata": {},
     "output_type": "execute_result"
    }
   ],
   "source": [
    "# Next I'll correct spelling mistakes\n",
    "\n",
    "tweets_df['text'] = tweets_df['text'].apply(lambda x: str(TextBlob(x).correct()))\n",
    "\n",
    "tweets_df['text'].head()"
   ]
  },
  {
   "cell_type": "code",
   "execution_count": 70,
   "id": "1730ff81",
   "metadata": {},
   "outputs": [
    {
     "data": {
      "text/plain": [
       "0    today lunch special catawba delhi include 2 ch...\n",
       "1    got bean green potato potato lamb ram hog dog ...\n",
       "2              becoming potato peru httpstco3gyi1s8lt5\n",
       "3    green bean potato everything else salut soon m...\n",
       "4    cooking day famous cattle trail stew basically...\n",
       "Name: text, dtype: object"
      ]
     },
     "execution_count": 70,
     "metadata": {},
     "output_type": "execute_result"
    }
   ],
   "source": [
    "# Finally I'll lematize the words\n",
    "\n",
    "tweets_df['text'] = tweets_df['text'].apply(lambda x: \" \".join([Word(word).lemmatize() for word in x.split()]))\n",
    "\n",
    "tweets_df['text'].head()"
   ]
  },
  {
   "cell_type": "code",
   "execution_count": 71,
   "id": "2caf29ed",
   "metadata": {},
   "outputs": [
    {
     "data": {
      "text/html": [
       "<div>\n",
       "<style scoped>\n",
       "    .dataframe tbody tr th:only-of-type {\n",
       "        vertical-align: middle;\n",
       "    }\n",
       "\n",
       "    .dataframe tbody tr th {\n",
       "        vertical-align: top;\n",
       "    }\n",
       "\n",
       "    .dataframe thead th {\n",
       "        text-align: right;\n",
       "    }\n",
       "</style>\n",
       "<table border=\"1\" class=\"dataframe\">\n",
       "  <thead>\n",
       "    <tr style=\"text-align: right;\">\n",
       "      <th></th>\n",
       "      <th>text</th>\n",
       "      <th>sentiment</th>\n",
       "    </tr>\n",
       "  </thead>\n",
       "  <tbody>\n",
       "    <tr>\n",
       "      <th>0</th>\n",
       "      <td>today lunch special catawba delhi include 2 ch...</td>\n",
       "      <td>-0.060714</td>\n",
       "    </tr>\n",
       "    <tr>\n",
       "      <th>1</th>\n",
       "      <td>got bean green potato potato lamb ram hog dog ...</td>\n",
       "      <td>-0.400000</td>\n",
       "    </tr>\n",
       "    <tr>\n",
       "      <th>2</th>\n",
       "      <td>becoming potato peru httpstco3gyi1s8lt5</td>\n",
       "      <td>0.450000</td>\n",
       "    </tr>\n",
       "    <tr>\n",
       "      <th>3</th>\n",
       "      <td>green bean potato everything else salut soon m...</td>\n",
       "      <td>-0.256250</td>\n",
       "    </tr>\n",
       "    <tr>\n",
       "      <th>4</th>\n",
       "      <td>cooking day famous cattle trail stew basically...</td>\n",
       "      <td>0.500000</td>\n",
       "    </tr>\n",
       "  </tbody>\n",
       "</table>\n",
       "</div>"
      ],
      "text/plain": [
       "                                                text  sentiment\n",
       "0  today lunch special catawba delhi include 2 ch...  -0.060714\n",
       "1  got bean green potato potato lamb ram hog dog ...  -0.400000\n",
       "2            becoming potato peru httpstco3gyi1s8lt5   0.450000\n",
       "3  green bean potato everything else salut soon m...  -0.256250\n",
       "4  cooking day famous cattle trail stew basically...   0.500000"
      ]
     },
     "execution_count": 71,
     "metadata": {},
     "output_type": "execute_result"
    }
   ],
   "source": [
    "# Now I'll produce the sentiment analysis\n",
    "\n",
    "tweets_df['sentiment'] = tweets_df['text'].apply(lambda x: TextBlob(x).sentiment[0])\n",
    "\n",
    "tweets_df[['text', 'sentiment']].head()"
   ]
  },
  {
   "cell_type": "code",
   "execution_count": 72,
   "id": "e430018a",
   "metadata": {},
   "outputs": [
    {
     "data": {
      "text/plain": [
       "0.08580643939393935"
      ]
     },
     "execution_count": 72,
     "metadata": {},
     "output_type": "execute_result"
    }
   ],
   "source": [
    "# The mean sentiment is fairly neutral\n",
    "\n",
    "tweets_df['sentiment'].mean()"
   ]
  },
  {
   "cell_type": "code",
   "execution_count": 73,
   "id": "076e9560",
   "metadata": {},
   "outputs": [],
   "source": [
    "# Let's try some classification, I'll turn this into a binary classification probelm \n",
    "\n",
    "tweets_df['Class'] = tweets_df.sentiment.apply(lambda x: 'Positive' if x >= 0 else 'Negative')\n",
    "    "
   ]
  },
  {
   "cell_type": "code",
   "execution_count": 74,
   "id": "89dc6bab",
   "metadata": {},
   "outputs": [
    {
     "data": {
      "text/html": [
       "<div>\n",
       "<style scoped>\n",
       "    .dataframe tbody tr th:only-of-type {\n",
       "        vertical-align: middle;\n",
       "    }\n",
       "\n",
       "    .dataframe tbody tr th {\n",
       "        vertical-align: top;\n",
       "    }\n",
       "\n",
       "    .dataframe thead th {\n",
       "        text-align: right;\n",
       "    }\n",
       "</style>\n",
       "<table border=\"1\" class=\"dataframe\">\n",
       "  <thead>\n",
       "    <tr style=\"text-align: right;\">\n",
       "      <th></th>\n",
       "      <th>text</th>\n",
       "      <th>Class</th>\n",
       "    </tr>\n",
       "  </thead>\n",
       "  <tbody>\n",
       "    <tr>\n",
       "      <th>0</th>\n",
       "      <td>today lunch special catawba delhi include 2 ch...</td>\n",
       "      <td>Negative</td>\n",
       "    </tr>\n",
       "    <tr>\n",
       "      <th>1</th>\n",
       "      <td>got bean green potato potato lamb ram hog dog ...</td>\n",
       "      <td>Negative</td>\n",
       "    </tr>\n",
       "    <tr>\n",
       "      <th>2</th>\n",
       "      <td>becoming potato peru httpstco3gyi1s8lt5</td>\n",
       "      <td>Positive</td>\n",
       "    </tr>\n",
       "    <tr>\n",
       "      <th>3</th>\n",
       "      <td>green bean potato everything else salut soon m...</td>\n",
       "      <td>Negative</td>\n",
       "    </tr>\n",
       "    <tr>\n",
       "      <th>4</th>\n",
       "      <td>cooking day famous cattle trail stew basically...</td>\n",
       "      <td>Positive</td>\n",
       "    </tr>\n",
       "  </tbody>\n",
       "</table>\n",
       "</div>"
      ],
      "text/plain": [
       "                                                text     Class\n",
       "0  today lunch special catawba delhi include 2 ch...  Negative\n",
       "1  got bean green potato potato lamb ram hog dog ...  Negative\n",
       "2            becoming potato peru httpstco3gyi1s8lt5  Positive\n",
       "3  green bean potato everything else salut soon m...  Negative\n",
       "4  cooking day famous cattle trail stew basically...  Positive"
      ]
     },
     "execution_count": 74,
     "metadata": {},
     "output_type": "execute_result"
    }
   ],
   "source": [
    "tweets_df = tweets_df[['text', 'Class']]\n",
    "tweets_df.head()"
   ]
  },
  {
   "cell_type": "code",
   "execution_count": 75,
   "id": "cfdf7b5e",
   "metadata": {},
   "outputs": [
    {
     "data": {
      "text/plain": [
       "((80, 593), (20, 593), (80,), (20,))"
      ]
     },
     "execution_count": 75,
     "metadata": {},
     "output_type": "execute_result"
    }
   ],
   "source": [
    "# Create a CountVectorizer object to transform the text strings into numerical features\n",
    "# Produce train, test splits\n",
    "\n",
    "y = tweets_df['Class']\n",
    "\n",
    "\n",
    "vectorizer = CountVectorizer()\n",
    "\n",
    "X = vectorizer.fit_transform(tweets_df['text'])\n",
    "\n",
    "X_train, X_test, y_train, y_test = train_test_split(X, y, test_size = 0.2, random_state = 42)\n",
    "\n",
    "X_train.shape, X_test.shape, y_train.shape, y_test.shape"
   ]
  },
  {
   "cell_type": "code",
   "execution_count": 76,
   "id": "8dd0e138",
   "metadata": {},
   "outputs": [
    {
     "data": {
      "text/plain": [
       "LogisticRegression()"
      ]
     },
     "execution_count": 76,
     "metadata": {},
     "output_type": "execute_result"
    }
   ],
   "source": [
    "# Create a LogisticRegression model\n",
    "log_reg = LogisticRegression()\n",
    "\n",
    "# Fit the model to the training data\n",
    "log_reg.fit(X_train, y_train)"
   ]
  },
  {
   "cell_type": "code",
   "execution_count": 77,
   "id": "2e84e74f",
   "metadata": {},
   "outputs": [],
   "source": [
    "# Produce predictons for both training and test data\n",
    "\n",
    "y_train_pred = log_reg.predict(X_train)\n",
    "y_test_pred = log_reg.predict(X_test)"
   ]
  },
  {
   "cell_type": "code",
   "execution_count": 78,
   "id": "f9f2feba",
   "metadata": {},
   "outputs": [],
   "source": [
    "# Create a confusion matrix\n",
    "\n",
    "conf_mat = confusion_matrix(y_test, y_test_pred)"
   ]
  },
  {
   "cell_type": "code",
   "execution_count": 79,
   "id": "2013011c",
   "metadata": {},
   "outputs": [
    {
     "data": {
      "image/png": "[encoded data removed]",
      "text/plain": [
       "<Figure size 720x360 with 2 Axes>"
      ]
     },
     "metadata": {
      "needs_background": "light"
     },
     "output_type": "display_data"
    }
   ],
   "source": [
    "# Produce a plot of confusion matrix\n",
    "\n",
    "plt.subplots(figsize = (10, 5))\n",
    "\n",
    "sns.heatmap(conf_mat, annot = True, fmt = 'd')\n",
    "\n",
    "# Add a title and axis labels\n",
    "plt.title('Confusion Matrix')\n",
    "plt.xlabel('Predicted Class')\n",
    "plt.ylabel('Actual Class')\n",
    "\n",
    "# Show the plot\n",
    "plt.show()\n",
    "\n",
    "#plt.savefig('C:\\\\Users\\\\justi\\\\OneDrive\\\\Documents\\\\MSc Data Analytics\\\\Semester 1 - CA 2\\\\Plots\\\\figure5.png')"
   ]
  }
 ],
 "metadata": {
  "kernelspec": {
   "display_name": "Python 3 (ipykernel)",
   "language": "python",
   "name": "python3"
  },
  "language_info": {
   "codemirror_mode": {
    "name": "ipython",
    "version": 3
   },
   "file_extension": ".py",
   "mimetype": "text/x-python",
   "name": "python",
   "nbconvert_exporter": "python",
   "pygments_lexer": "ipython3",
   "version": "3.9.12"
  }
 },
 "nbformat": 4,
 "nbformat_minor": 5
}
