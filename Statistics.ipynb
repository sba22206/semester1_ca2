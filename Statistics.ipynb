{
 "cells": [
  {
   "cell_type": "code",
   "execution_count": 76,
   "id": "d500b274",
   "metadata": {},
   "outputs": [],
   "source": [
    "import pandas as pd\n",
    "import numpy as np\n",
    "import matplotlib.pyplot as plt\n",
    "import seaborn as sns\n",
    "from scipy.stats import pearsonr\n",
    "from scipy.stats import shapiro\n",
    "from scipy.stats import levene\n",
    "from scipy.stats import f_oneway\n",
    "from scipy.stats import kruskal\n",
    "from scipy.stats import gaussian_kde"
   ]
  },
  {
   "cell_type": "code",
   "execution_count": 23,
   "id": "afa24baf",
   "metadata": {},
   "outputs": [],
   "source": [
    "eu27_codes = ['AT', 'BE', 'BG', 'HR', 'CY', 'CZ', 'DK', 'EE', 'FI', 'FR', 'DE', 'EL', 'HU', 'IE', 'IT', 'LV', 'LT',\n",
    "              'LU', 'MT', 'NL', 'PL', 'PT', 'RO', 'SK', 'SI', 'ES', 'SE']\n",
    "\n"
   ]
  },
  {
   "cell_type": "code",
   "execution_count": 25,
   "id": "06bee082",
   "metadata": {},
   "outputs": [],
   "source": [
    "yields = pd.read_csv('yields.csv')"
   ]
  },
  {
   "cell_type": "code",
   "execution_count": 26,
   "id": "c5b28a1b",
   "metadata": {},
   "outputs": [
    {
     "data": {
      "text/html": [
       "<div>\n",
       "<style scoped>\n",
       "    .dataframe tbody tr th:only-of-type {\n",
       "        vertical-align: middle;\n",
       "    }\n",
       "\n",
       "    .dataframe tbody tr th {\n",
       "        vertical-align: top;\n",
       "    }\n",
       "\n",
       "    .dataframe thead th {\n",
       "        text-align: right;\n",
       "    }\n",
       "</style>\n",
       "<table border=\"1\" class=\"dataframe\">\n",
       "  <thead>\n",
       "    <tr style=\"text-align: right;\">\n",
       "      <th></th>\n",
       "      <th>Unnamed: 0</th>\n",
       "      <th>freq</th>\n",
       "      <th>crops</th>\n",
       "      <th>strucpro</th>\n",
       "      <th>geo\\TIME_PERIOD</th>\n",
       "      <th>2000</th>\n",
       "      <th>2001</th>\n",
       "      <th>2002</th>\n",
       "      <th>2003</th>\n",
       "      <th>2004</th>\n",
       "      <th>...</th>\n",
       "      <th>2013</th>\n",
       "      <th>2014</th>\n",
       "      <th>2015</th>\n",
       "      <th>2016</th>\n",
       "      <th>2017</th>\n",
       "      <th>2018</th>\n",
       "      <th>2019</th>\n",
       "      <th>2020</th>\n",
       "      <th>2021</th>\n",
       "      <th>2022</th>\n",
       "    </tr>\n",
       "  </thead>\n",
       "  <tbody>\n",
       "    <tr>\n",
       "      <th>0</th>\n",
       "      <td>246</td>\n",
       "      <td>A</td>\n",
       "      <td>C0000</td>\n",
       "      <td>YI_HU_EU</td>\n",
       "      <td>AT</td>\n",
       "      <td>NaN</td>\n",
       "      <td>NaN</td>\n",
       "      <td>NaN</td>\n",
       "      <td>NaN</td>\n",
       "      <td>NaN</td>\n",
       "      <td>...</td>\n",
       "      <td>5.85</td>\n",
       "      <td>7.06</td>\n",
       "      <td>NaN</td>\n",
       "      <td>NaN</td>\n",
       "      <td>NaN</td>\n",
       "      <td>NaN</td>\n",
       "      <td>NaN</td>\n",
       "      <td>NaN</td>\n",
       "      <td>NaN</td>\n",
       "      <td>NaN</td>\n",
       "    </tr>\n",
       "    <tr>\n",
       "      <th>1</th>\n",
       "      <td>247</td>\n",
       "      <td>A</td>\n",
       "      <td>C0000</td>\n",
       "      <td>YI_HU_EU</td>\n",
       "      <td>BG</td>\n",
       "      <td>NaN</td>\n",
       "      <td>NaN</td>\n",
       "      <td>NaN</td>\n",
       "      <td>NaN</td>\n",
       "      <td>NaN</td>\n",
       "      <td>...</td>\n",
       "      <td>4.67</td>\n",
       "      <td>4.93</td>\n",
       "      <td>NaN</td>\n",
       "      <td>NaN</td>\n",
       "      <td>NaN</td>\n",
       "      <td>NaN</td>\n",
       "      <td>NaN</td>\n",
       "      <td>NaN</td>\n",
       "      <td>NaN</td>\n",
       "      <td>NaN</td>\n",
       "    </tr>\n",
       "    <tr>\n",
       "      <th>2</th>\n",
       "      <td>248</td>\n",
       "      <td>A</td>\n",
       "      <td>C0000</td>\n",
       "      <td>YI_HU_EU</td>\n",
       "      <td>CH</td>\n",
       "      <td>NaN</td>\n",
       "      <td>NaN</td>\n",
       "      <td>NaN</td>\n",
       "      <td>NaN</td>\n",
       "      <td>NaN</td>\n",
       "      <td>...</td>\n",
       "      <td>NaN</td>\n",
       "      <td>NaN</td>\n",
       "      <td>NaN</td>\n",
       "      <td>NaN</td>\n",
       "      <td>NaN</td>\n",
       "      <td>NaN</td>\n",
       "      <td>NaN</td>\n",
       "      <td>NaN</td>\n",
       "      <td>NaN</td>\n",
       "      <td>NaN</td>\n",
       "    </tr>\n",
       "    <tr>\n",
       "      <th>3</th>\n",
       "      <td>249</td>\n",
       "      <td>A</td>\n",
       "      <td>C0000</td>\n",
       "      <td>YI_HU_EU</td>\n",
       "      <td>CY</td>\n",
       "      <td>NaN</td>\n",
       "      <td>NaN</td>\n",
       "      <td>NaN</td>\n",
       "      <td>NaN</td>\n",
       "      <td>NaN</td>\n",
       "      <td>...</td>\n",
       "      <td>1.69</td>\n",
       "      <td>0.28</td>\n",
       "      <td>NaN</td>\n",
       "      <td>NaN</td>\n",
       "      <td>NaN</td>\n",
       "      <td>NaN</td>\n",
       "      <td>NaN</td>\n",
       "      <td>NaN</td>\n",
       "      <td>NaN</td>\n",
       "      <td>NaN</td>\n",
       "    </tr>\n",
       "    <tr>\n",
       "      <th>4</th>\n",
       "      <td>250</td>\n",
       "      <td>A</td>\n",
       "      <td>C0000</td>\n",
       "      <td>YI_HU_EU</td>\n",
       "      <td>CZ</td>\n",
       "      <td>NaN</td>\n",
       "      <td>NaN</td>\n",
       "      <td>NaN</td>\n",
       "      <td>NaN</td>\n",
       "      <td>NaN</td>\n",
       "      <td>...</td>\n",
       "      <td>5.32</td>\n",
       "      <td>6.23</td>\n",
       "      <td>NaN</td>\n",
       "      <td>NaN</td>\n",
       "      <td>NaN</td>\n",
       "      <td>NaN</td>\n",
       "      <td>NaN</td>\n",
       "      <td>NaN</td>\n",
       "      <td>NaN</td>\n",
       "      <td>NaN</td>\n",
       "    </tr>\n",
       "  </tbody>\n",
       "</table>\n",
       "<p>5 rows × 28 columns</p>\n",
       "</div>"
      ],
      "text/plain": [
       "   Unnamed: 0 freq  crops  strucpro geo\\TIME_PERIOD  2000  2001  2002  2003  \\\n",
       "0         246    A  C0000  YI_HU_EU              AT   NaN   NaN   NaN   NaN   \n",
       "1         247    A  C0000  YI_HU_EU              BG   NaN   NaN   NaN   NaN   \n",
       "2         248    A  C0000  YI_HU_EU              CH   NaN   NaN   NaN   NaN   \n",
       "3         249    A  C0000  YI_HU_EU              CY   NaN   NaN   NaN   NaN   \n",
       "4         250    A  C0000  YI_HU_EU              CZ   NaN   NaN   NaN   NaN   \n",
       "\n",
       "   2004  ...  2013  2014  2015  2016  2017  2018  2019  2020  2021  2022  \n",
       "0   NaN  ...  5.85  7.06   NaN   NaN   NaN   NaN   NaN   NaN   NaN   NaN  \n",
       "1   NaN  ...  4.67  4.93   NaN   NaN   NaN   NaN   NaN   NaN   NaN   NaN  \n",
       "2   NaN  ...   NaN   NaN   NaN   NaN   NaN   NaN   NaN   NaN   NaN   NaN  \n",
       "3   NaN  ...  1.69  0.28   NaN   NaN   NaN   NaN   NaN   NaN   NaN   NaN  \n",
       "4   NaN  ...  5.32  6.23   NaN   NaN   NaN   NaN   NaN   NaN   NaN   NaN  \n",
       "\n",
       "[5 rows x 28 columns]"
      ]
     },
     "execution_count": 26,
     "metadata": {},
     "output_type": "execute_result"
    }
   ],
   "source": [
    "yields.head()"
   ]
  },
  {
   "cell_type": "code",
   "execution_count": 27,
   "id": "8b43f51e",
   "metadata": {},
   "outputs": [
    {
     "data": {
      "text/plain": [
       "59"
      ]
     },
     "execution_count": 27,
     "metadata": {},
     "output_type": "execute_result"
    }
   ],
   "source": [
    "len(yields.crops.unique())"
   ]
  },
  {
   "cell_type": "code",
   "execution_count": 28,
   "id": "9556f317",
   "metadata": {},
   "outputs": [],
   "source": [
    "yields.drop(columns = ['Unnamed: 0', 'freq'], inplace = True)"
   ]
  },
  {
   "cell_type": "code",
   "execution_count": 29,
   "id": "7bc1f5fa",
   "metadata": {},
   "outputs": [],
   "source": [
    "yields.rename(columns = {'geo\\TIME_PERIOD': 'geo'}, inplace = True)"
   ]
  },
  {
   "cell_type": "code",
   "execution_count": 30,
   "id": "ac057510",
   "metadata": {},
   "outputs": [
    {
     "data": {
      "text/html": [
       "<div>\n",
       "<style scoped>\n",
       "    .dataframe tbody tr th:only-of-type {\n",
       "        vertical-align: middle;\n",
       "    }\n",
       "\n",
       "    .dataframe tbody tr th {\n",
       "        vertical-align: top;\n",
       "    }\n",
       "\n",
       "    .dataframe thead th {\n",
       "        text-align: right;\n",
       "    }\n",
       "</style>\n",
       "<table border=\"1\" class=\"dataframe\">\n",
       "  <thead>\n",
       "    <tr style=\"text-align: right;\">\n",
       "      <th></th>\n",
       "      <th>crops</th>\n",
       "      <th>strucpro</th>\n",
       "      <th>geo</th>\n",
       "      <th>2000</th>\n",
       "      <th>2001</th>\n",
       "      <th>2002</th>\n",
       "      <th>2003</th>\n",
       "      <th>2004</th>\n",
       "      <th>2005</th>\n",
       "      <th>2006</th>\n",
       "      <th>...</th>\n",
       "      <th>2013</th>\n",
       "      <th>2014</th>\n",
       "      <th>2015</th>\n",
       "      <th>2016</th>\n",
       "      <th>2017</th>\n",
       "      <th>2018</th>\n",
       "      <th>2019</th>\n",
       "      <th>2020</th>\n",
       "      <th>2021</th>\n",
       "      <th>2022</th>\n",
       "    </tr>\n",
       "  </thead>\n",
       "  <tbody>\n",
       "    <tr>\n",
       "      <th>0</th>\n",
       "      <td>C0000</td>\n",
       "      <td>YI_HU_EU</td>\n",
       "      <td>AT</td>\n",
       "      <td>NaN</td>\n",
       "      <td>NaN</td>\n",
       "      <td>NaN</td>\n",
       "      <td>NaN</td>\n",
       "      <td>NaN</td>\n",
       "      <td>NaN</td>\n",
       "      <td>NaN</td>\n",
       "      <td>...</td>\n",
       "      <td>5.85</td>\n",
       "      <td>7.06</td>\n",
       "      <td>NaN</td>\n",
       "      <td>NaN</td>\n",
       "      <td>NaN</td>\n",
       "      <td>NaN</td>\n",
       "      <td>NaN</td>\n",
       "      <td>NaN</td>\n",
       "      <td>NaN</td>\n",
       "      <td>NaN</td>\n",
       "    </tr>\n",
       "    <tr>\n",
       "      <th>1</th>\n",
       "      <td>C0000</td>\n",
       "      <td>YI_HU_EU</td>\n",
       "      <td>BG</td>\n",
       "      <td>NaN</td>\n",
       "      <td>NaN</td>\n",
       "      <td>NaN</td>\n",
       "      <td>NaN</td>\n",
       "      <td>NaN</td>\n",
       "      <td>NaN</td>\n",
       "      <td>NaN</td>\n",
       "      <td>...</td>\n",
       "      <td>4.67</td>\n",
       "      <td>4.93</td>\n",
       "      <td>NaN</td>\n",
       "      <td>NaN</td>\n",
       "      <td>NaN</td>\n",
       "      <td>NaN</td>\n",
       "      <td>NaN</td>\n",
       "      <td>NaN</td>\n",
       "      <td>NaN</td>\n",
       "      <td>NaN</td>\n",
       "    </tr>\n",
       "    <tr>\n",
       "      <th>2</th>\n",
       "      <td>C0000</td>\n",
       "      <td>YI_HU_EU</td>\n",
       "      <td>CH</td>\n",
       "      <td>NaN</td>\n",
       "      <td>NaN</td>\n",
       "      <td>NaN</td>\n",
       "      <td>NaN</td>\n",
       "      <td>NaN</td>\n",
       "      <td>NaN</td>\n",
       "      <td>NaN</td>\n",
       "      <td>...</td>\n",
       "      <td>NaN</td>\n",
       "      <td>NaN</td>\n",
       "      <td>NaN</td>\n",
       "      <td>NaN</td>\n",
       "      <td>NaN</td>\n",
       "      <td>NaN</td>\n",
       "      <td>NaN</td>\n",
       "      <td>NaN</td>\n",
       "      <td>NaN</td>\n",
       "      <td>NaN</td>\n",
       "    </tr>\n",
       "    <tr>\n",
       "      <th>3</th>\n",
       "      <td>C0000</td>\n",
       "      <td>YI_HU_EU</td>\n",
       "      <td>CY</td>\n",
       "      <td>NaN</td>\n",
       "      <td>NaN</td>\n",
       "      <td>NaN</td>\n",
       "      <td>NaN</td>\n",
       "      <td>NaN</td>\n",
       "      <td>NaN</td>\n",
       "      <td>NaN</td>\n",
       "      <td>...</td>\n",
       "      <td>1.69</td>\n",
       "      <td>0.28</td>\n",
       "      <td>NaN</td>\n",
       "      <td>NaN</td>\n",
       "      <td>NaN</td>\n",
       "      <td>NaN</td>\n",
       "      <td>NaN</td>\n",
       "      <td>NaN</td>\n",
       "      <td>NaN</td>\n",
       "      <td>NaN</td>\n",
       "    </tr>\n",
       "    <tr>\n",
       "      <th>4</th>\n",
       "      <td>C0000</td>\n",
       "      <td>YI_HU_EU</td>\n",
       "      <td>CZ</td>\n",
       "      <td>NaN</td>\n",
       "      <td>NaN</td>\n",
       "      <td>NaN</td>\n",
       "      <td>NaN</td>\n",
       "      <td>NaN</td>\n",
       "      <td>NaN</td>\n",
       "      <td>NaN</td>\n",
       "      <td>...</td>\n",
       "      <td>5.32</td>\n",
       "      <td>6.23</td>\n",
       "      <td>NaN</td>\n",
       "      <td>NaN</td>\n",
       "      <td>NaN</td>\n",
       "      <td>NaN</td>\n",
       "      <td>NaN</td>\n",
       "      <td>NaN</td>\n",
       "      <td>NaN</td>\n",
       "      <td>NaN</td>\n",
       "    </tr>\n",
       "  </tbody>\n",
       "</table>\n",
       "<p>5 rows × 26 columns</p>\n",
       "</div>"
      ],
      "text/plain": [
       "   crops  strucpro geo  2000  2001  2002  2003  2004  2005  2006  ...  2013  \\\n",
       "0  C0000  YI_HU_EU  AT   NaN   NaN   NaN   NaN   NaN   NaN   NaN  ...  5.85   \n",
       "1  C0000  YI_HU_EU  BG   NaN   NaN   NaN   NaN   NaN   NaN   NaN  ...  4.67   \n",
       "2  C0000  YI_HU_EU  CH   NaN   NaN   NaN   NaN   NaN   NaN   NaN  ...   NaN   \n",
       "3  C0000  YI_HU_EU  CY   NaN   NaN   NaN   NaN   NaN   NaN   NaN  ...  1.69   \n",
       "4  C0000  YI_HU_EU  CZ   NaN   NaN   NaN   NaN   NaN   NaN   NaN  ...  5.32   \n",
       "\n",
       "   2014  2015  2016  2017  2018  2019  2020  2021  2022  \n",
       "0  7.06   NaN   NaN   NaN   NaN   NaN   NaN   NaN   NaN  \n",
       "1  4.93   NaN   NaN   NaN   NaN   NaN   NaN   NaN   NaN  \n",
       "2   NaN   NaN   NaN   NaN   NaN   NaN   NaN   NaN   NaN  \n",
       "3  0.28   NaN   NaN   NaN   NaN   NaN   NaN   NaN   NaN  \n",
       "4  6.23   NaN   NaN   NaN   NaN   NaN   NaN   NaN   NaN  \n",
       "\n",
       "[5 rows x 26 columns]"
      ]
     },
     "execution_count": 30,
     "metadata": {},
     "output_type": "execute_result"
    }
   ],
   "source": [
    "yields.head()"
   ]
  },
  {
   "cell_type": "code",
   "execution_count": 31,
   "id": "fb30181d",
   "metadata": {},
   "outputs": [],
   "source": [
    "yields_long = yields.melt(id_vars = ['crops', 'strucpro', 'geo'])"
   ]
  },
  {
   "cell_type": "code",
   "execution_count": 32,
   "id": "d25815fc",
   "metadata": {},
   "outputs": [
    {
     "data": {
      "text/plain": [
       "(34546, 5)"
      ]
     },
     "execution_count": 32,
     "metadata": {},
     "output_type": "execute_result"
    }
   ],
   "source": [
    "yields_long.shape"
   ]
  },
  {
   "cell_type": "code",
   "execution_count": 33,
   "id": "60eb2b4c",
   "metadata": {},
   "outputs": [
    {
     "data": {
      "text/plain": [
       "(16280, 5)"
      ]
     },
     "execution_count": 33,
     "metadata": {},
     "output_type": "execute_result"
    }
   ],
   "source": [
    "yields_long.dropna(inplace = True)\n",
    "yields_long.shape"
   ]
  },
  {
   "cell_type": "code",
   "execution_count": 34,
   "id": "9aefd18c",
   "metadata": {},
   "outputs": [
    {
     "data": {
      "text/html": [
       "<div>\n",
       "<style scoped>\n",
       "    .dataframe tbody tr th:only-of-type {\n",
       "        vertical-align: middle;\n",
       "    }\n",
       "\n",
       "    .dataframe tbody tr th {\n",
       "        vertical-align: top;\n",
       "    }\n",
       "\n",
       "    .dataframe thead th {\n",
       "        text-align: right;\n",
       "    }\n",
       "</style>\n",
       "<table border=\"1\" class=\"dataframe\">\n",
       "  <thead>\n",
       "    <tr style=\"text-align: right;\">\n",
       "      <th></th>\n",
       "      <th>crops</th>\n",
       "      <th>strucpro</th>\n",
       "      <th>geo</th>\n",
       "      <th>variable</th>\n",
       "      <th>value</th>\n",
       "    </tr>\n",
       "  </thead>\n",
       "  <tbody>\n",
       "    <tr>\n",
       "      <th>64</th>\n",
       "      <td>C1100</td>\n",
       "      <td>YI_HU_EU</td>\n",
       "      <td>EL</td>\n",
       "      <td>2000</td>\n",
       "      <td>2.34</td>\n",
       "    </tr>\n",
       "    <tr>\n",
       "      <th>66</th>\n",
       "      <td>C1100</td>\n",
       "      <td>YI_HU_EU</td>\n",
       "      <td>FI</td>\n",
       "      <td>2000</td>\n",
       "      <td>3.59</td>\n",
       "    </tr>\n",
       "    <tr>\n",
       "      <th>68</th>\n",
       "      <td>C1100</td>\n",
       "      <td>YI_HU_EU</td>\n",
       "      <td>HR</td>\n",
       "      <td>2000</td>\n",
       "      <td>4.75</td>\n",
       "    </tr>\n",
       "    <tr>\n",
       "      <th>70</th>\n",
       "      <td>C1100</td>\n",
       "      <td>YI_HU_EU</td>\n",
       "      <td>IE</td>\n",
       "      <td>2000</td>\n",
       "      <td>8.85</td>\n",
       "    </tr>\n",
       "    <tr>\n",
       "      <th>75</th>\n",
       "      <td>C1100</td>\n",
       "      <td>YI_HU_EU</td>\n",
       "      <td>LV</td>\n",
       "      <td>2000</td>\n",
       "      <td>2.70</td>\n",
       "    </tr>\n",
       "  </tbody>\n",
       "</table>\n",
       "</div>"
      ],
      "text/plain": [
       "    crops  strucpro geo variable  value\n",
       "64  C1100  YI_HU_EU  EL     2000   2.34\n",
       "66  C1100  YI_HU_EU  FI     2000   3.59\n",
       "68  C1100  YI_HU_EU  HR     2000   4.75\n",
       "70  C1100  YI_HU_EU  IE     2000   8.85\n",
       "75  C1100  YI_HU_EU  LV     2000   2.70"
      ]
     },
     "execution_count": 34,
     "metadata": {},
     "output_type": "execute_result"
    }
   ],
   "source": [
    "yields_long.head()"
   ]
  },
  {
   "cell_type": "code",
   "execution_count": 35,
   "id": "336e8af9",
   "metadata": {},
   "outputs": [
    {
     "data": {
      "text/plain": [
       "array(['C1100', 'C1110', 'C1111', 'C1112', 'C1120', 'C1200', 'C1210',\n",
       "       'C1300', 'C1310', 'C1320', 'C1400', 'C1410', 'C1420', 'C1500',\n",
       "       'C1600', 'C1700', 'C1900', 'C2000', 'C2100', 'C2200', 'G0000',\n",
       "       'G1000', 'G2000', 'G2100', 'G2900', 'G3000', 'G9100', 'G9900',\n",
       "       'I1100', 'I1110', 'I1110-1130', 'I1111', 'I1112', 'I1120', 'I1130',\n",
       "       'I1140', 'I1150', 'I1190', 'I2100', 'I2200', 'I2300', 'I3000',\n",
       "       'I4000', 'I5000', 'P1100', 'P1200', 'P1300', 'P9000', 'R1000',\n",
       "       'R2000', 'R9000', 'C0000', 'C1000', 'C1220', 'I0000', 'I6000',\n",
       "       'P0000', 'R0000', 'I2900'], dtype=object)"
      ]
     },
     "execution_count": 35,
     "metadata": {},
     "output_type": "execute_result"
    }
   ],
   "source": [
    "yields_long.crops.unique()"
   ]
  },
  {
   "cell_type": "code",
   "execution_count": 36,
   "id": "8450bafa",
   "metadata": {},
   "outputs": [],
   "source": [
    "yields_long_ie = yields_long[yields_long.geo == 'IE']"
   ]
  },
  {
   "cell_type": "code",
   "execution_count": 37,
   "id": "0be6af9a",
   "metadata": {},
   "outputs": [
    {
     "data": {
      "text/html": [
       "<div>\n",
       "<style scoped>\n",
       "    .dataframe tbody tr th:only-of-type {\n",
       "        vertical-align: middle;\n",
       "    }\n",
       "\n",
       "    .dataframe tbody tr th {\n",
       "        vertical-align: top;\n",
       "    }\n",
       "\n",
       "    .dataframe thead th {\n",
       "        text-align: right;\n",
       "    }\n",
       "</style>\n",
       "<table border=\"1\" class=\"dataframe\">\n",
       "  <thead>\n",
       "    <tr style=\"text-align: right;\">\n",
       "      <th></th>\n",
       "      <th>crops</th>\n",
       "      <th>strucpro</th>\n",
       "      <th>geo</th>\n",
       "      <th>variable</th>\n",
       "      <th>value</th>\n",
       "    </tr>\n",
       "  </thead>\n",
       "  <tbody>\n",
       "    <tr>\n",
       "      <th>70</th>\n",
       "      <td>C1100</td>\n",
       "      <td>YI_HU_EU</td>\n",
       "      <td>IE</td>\n",
       "      <td>2000</td>\n",
       "      <td>8.85</td>\n",
       "    </tr>\n",
       "    <tr>\n",
       "      <th>107</th>\n",
       "      <td>C1110</td>\n",
       "      <td>YI_HU_EU</td>\n",
       "      <td>IE</td>\n",
       "      <td>2000</td>\n",
       "      <td>8.88</td>\n",
       "    </tr>\n",
       "    <tr>\n",
       "      <th>144</th>\n",
       "      <td>C1111</td>\n",
       "      <td>YI_HU_EU</td>\n",
       "      <td>IE</td>\n",
       "      <td>2000</td>\n",
       "      <td>9.26</td>\n",
       "    </tr>\n",
       "    <tr>\n",
       "      <th>178</th>\n",
       "      <td>C1112</td>\n",
       "      <td>YI_HU_EU</td>\n",
       "      <td>IE</td>\n",
       "      <td>2000</td>\n",
       "      <td>7.57</td>\n",
       "    </tr>\n",
       "    <tr>\n",
       "      <th>314</th>\n",
       "      <td>C1300</td>\n",
       "      <td>YI_HU_EU</td>\n",
       "      <td>IE</td>\n",
       "      <td>2000</td>\n",
       "      <td>6.81</td>\n",
       "    </tr>\n",
       "  </tbody>\n",
       "</table>\n",
       "</div>"
      ],
      "text/plain": [
       "     crops  strucpro geo variable  value\n",
       "70   C1100  YI_HU_EU  IE     2000   8.85\n",
       "107  C1110  YI_HU_EU  IE     2000   8.88\n",
       "144  C1111  YI_HU_EU  IE     2000   9.26\n",
       "178  C1112  YI_HU_EU  IE     2000   7.57\n",
       "314  C1300  YI_HU_EU  IE     2000   6.81"
      ]
     },
     "execution_count": 37,
     "metadata": {},
     "output_type": "execute_result"
    }
   ],
   "source": [
    "yields_long_ie.head()"
   ]
  },
  {
   "cell_type": "code",
   "execution_count": 38,
   "id": "aa049ed0",
   "metadata": {},
   "outputs": [
    {
     "data": {
      "text/plain": [
       "array(['C1100', 'C1110', 'C1111', 'C1112', 'C1300', 'C1310', 'C1320',\n",
       "       'C1400', 'C1410', 'G3000', 'G9100', 'I1100', 'I1110', 'I1110-1130',\n",
       "       'R1000', 'R2000', 'I1111', 'I1112', 'P1100', 'P1200', 'C0000',\n",
       "       'C1000'], dtype=object)"
      ]
     },
     "execution_count": 38,
     "metadata": {},
     "output_type": "execute_result"
    }
   ],
   "source": [
    "yields_long_ie.crops.unique()"
   ]
  },
  {
   "cell_type": "code",
   "execution_count": 39,
   "id": "e170d105",
   "metadata": {},
   "outputs": [],
   "source": [
    "yields_long_potatoes = yields_long[yields_long.crops == 'R1000']"
   ]
  },
  {
   "cell_type": "code",
   "execution_count": 40,
   "id": "18e038ac",
   "metadata": {},
   "outputs": [
    {
     "data": {
      "text/html": [
       "<div>\n",
       "<style scoped>\n",
       "    .dataframe tbody tr th:only-of-type {\n",
       "        vertical-align: middle;\n",
       "    }\n",
       "\n",
       "    .dataframe tbody tr th {\n",
       "        vertical-align: top;\n",
       "    }\n",
       "\n",
       "    .dataframe thead th {\n",
       "        text-align: right;\n",
       "    }\n",
       "</style>\n",
       "<table border=\"1\" class=\"dataframe\">\n",
       "  <thead>\n",
       "    <tr style=\"text-align: right;\">\n",
       "      <th></th>\n",
       "      <th>crops</th>\n",
       "      <th>strucpro</th>\n",
       "      <th>geo</th>\n",
       "      <th>variable</th>\n",
       "      <th>value</th>\n",
       "    </tr>\n",
       "  </thead>\n",
       "  <tbody>\n",
       "    <tr>\n",
       "      <th>1410</th>\n",
       "      <td>R1000</td>\n",
       "      <td>YI_HU_EU</td>\n",
       "      <td>BA</td>\n",
       "      <td>2000</td>\n",
       "      <td>6.52</td>\n",
       "    </tr>\n",
       "    <tr>\n",
       "      <th>1419</th>\n",
       "      <td>R1000</td>\n",
       "      <td>YI_HU_EU</td>\n",
       "      <td>EL</td>\n",
       "      <td>2000</td>\n",
       "      <td>29.92</td>\n",
       "    </tr>\n",
       "    <tr>\n",
       "      <th>1421</th>\n",
       "      <td>R1000</td>\n",
       "      <td>YI_HU_EU</td>\n",
       "      <td>FI</td>\n",
       "      <td>2000</td>\n",
       "      <td>24.46</td>\n",
       "    </tr>\n",
       "    <tr>\n",
       "      <th>1423</th>\n",
       "      <td>R1000</td>\n",
       "      <td>YI_HU_EU</td>\n",
       "      <td>HR</td>\n",
       "      <td>2000</td>\n",
       "      <td>11.50</td>\n",
       "    </tr>\n",
       "    <tr>\n",
       "      <th>1425</th>\n",
       "      <td>R1000</td>\n",
       "      <td>YI_HU_EU</td>\n",
       "      <td>IE</td>\n",
       "      <td>2000</td>\n",
       "      <td>33.60</td>\n",
       "    </tr>\n",
       "  </tbody>\n",
       "</table>\n",
       "</div>"
      ],
      "text/plain": [
       "      crops  strucpro geo variable  value\n",
       "1410  R1000  YI_HU_EU  BA     2000   6.52\n",
       "1419  R1000  YI_HU_EU  EL     2000  29.92\n",
       "1421  R1000  YI_HU_EU  FI     2000  24.46\n",
       "1423  R1000  YI_HU_EU  HR     2000  11.50\n",
       "1425  R1000  YI_HU_EU  IE     2000  33.60"
      ]
     },
     "execution_count": 40,
     "metadata": {},
     "output_type": "execute_result"
    }
   ],
   "source": [
    "yields_long_potatoes.head()"
   ]
  },
  {
   "cell_type": "code",
   "execution_count": 41,
   "id": "d29aab1f",
   "metadata": {},
   "outputs": [],
   "source": [
    "yields_long_potatoes_sample = yields_long_potatoes[(yields_long_potatoes.geo.isin(\n",
    "    ['AT', 'BE', 'DE', 'DK', 'EU27_2020', 'IE', 'NL', 'UK'])) & \n",
    "                                                   (yields_long_potatoes.variable >= '2010')]"
   ]
  },
  {
   "cell_type": "code",
   "execution_count": 42,
   "id": "7d144112",
   "metadata": {},
   "outputs": [
    {
     "data": {
      "image/png": "[encoded data removed]",
      "text/plain": [
       "<Figure size 1080x720 with 1 Axes>"
      ]
     },
     "metadata": {
      "needs_background": "light"
     },
     "output_type": "display_data"
    }
   ],
   "source": [
    "f, ax = plt.subplots(figsize = (15, 10))\n",
    "\n",
    "ax = sns.lineplot(x = 'variable', y = 'value', hue = 'geo', data = yields_long_potatoes_sample)\n",
    "\n",
    "plt.setp(ax.get_xticklabels(), rotation = 45)\n",
    "\n",
    "plt.show()"
   ]
  },
  {
   "cell_type": "code",
   "execution_count": 43,
   "id": "659b640b",
   "metadata": {},
   "outputs": [],
   "source": [
    "yields_potatoes_eu = yields_long_potatoes[yields_long_potatoes.geo.isin(eu27_codes)]"
   ]
  },
  {
   "cell_type": "code",
   "execution_count": 44,
   "id": "74e7175a",
   "metadata": {},
   "outputs": [],
   "source": [
    "yields_potatoes_eu_mean = yields_long_potatoes.groupby('geo').mean().reset_index().sort_values('value')"
   ]
  },
  {
   "cell_type": "code",
   "execution_count": 45,
   "id": "2162a83e",
   "metadata": {},
   "outputs": [
    {
     "data": {
      "text/html": [
       "<div>\n",
       "<style scoped>\n",
       "    .dataframe tbody tr th:only-of-type {\n",
       "        vertical-align: middle;\n",
       "    }\n",
       "\n",
       "    .dataframe tbody tr th {\n",
       "        vertical-align: top;\n",
       "    }\n",
       "\n",
       "    .dataframe thead th {\n",
       "        text-align: right;\n",
       "    }\n",
       "</style>\n",
       "<table border=\"1\" class=\"dataframe\">\n",
       "  <thead>\n",
       "    <tr style=\"text-align: right;\">\n",
       "      <th></th>\n",
       "      <th>geo</th>\n",
       "      <th>value</th>\n",
       "    </tr>\n",
       "  </thead>\n",
       "  <tbody>\n",
       "    <tr>\n",
       "      <th>2</th>\n",
       "      <td>BA</td>\n",
       "      <td>9.876364</td>\n",
       "    </tr>\n",
       "    <tr>\n",
       "      <th>24</th>\n",
       "      <td>MK</td>\n",
       "      <td>14.176667</td>\n",
       "    </tr>\n",
       "    <tr>\n",
       "      <th>29</th>\n",
       "      <td>RO</td>\n",
       "      <td>14.836522</td>\n",
       "    </tr>\n",
       "    <tr>\n",
       "      <th>23</th>\n",
       "      <td>ME</td>\n",
       "      <td>15.366000</td>\n",
       "    </tr>\n",
       "    <tr>\n",
       "      <th>20</th>\n",
       "      <td>LT</td>\n",
       "      <td>15.728462</td>\n",
       "    </tr>\n",
       "  </tbody>\n",
       "</table>\n",
       "</div>"
      ],
      "text/plain": [
       "   geo      value\n",
       "2   BA   9.876364\n",
       "24  MK  14.176667\n",
       "29  RO  14.836522\n",
       "23  ME  15.366000\n",
       "20  LT  15.728462"
      ]
     },
     "execution_count": 45,
     "metadata": {},
     "output_type": "execute_result"
    }
   ],
   "source": [
    "yields_potatoes_eu_mean.head()"
   ]
  },
  {
   "cell_type": "code",
   "execution_count": 46,
   "id": "35328303",
   "metadata": {},
   "outputs": [
    {
     "data": {
      "image/png": "[encoded data removed]",
      "text/plain": [
       "<Figure size 1080x720 with 1 Axes>"
      ]
     },
     "metadata": {
      "needs_background": "light"
     },
     "output_type": "display_data"
    }
   ],
   "source": [
    "f, ax = plt.subplots(figsize = (15, 10))\n",
    "\n",
    "ax = sns.barplot(x = 'geo', y = 'value', data = yields_potatoes_eu_mean)\n",
    "\n",
    "plt.show()"
   ]
  },
  {
   "cell_type": "code",
   "execution_count": 47,
   "id": "ffd4ee47",
   "metadata": {},
   "outputs": [],
   "source": [
    "# Let's compare Irish potato yields to that of the whole EU"
   ]
  },
  {
   "cell_type": "code",
   "execution_count": 48,
   "id": "ef23324d",
   "metadata": {},
   "outputs": [
    {
     "data": {
      "text/html": [
       "<div>\n",
       "<style scoped>\n",
       "    .dataframe tbody tr th:only-of-type {\n",
       "        vertical-align: middle;\n",
       "    }\n",
       "\n",
       "    .dataframe tbody tr th {\n",
       "        vertical-align: top;\n",
       "    }\n",
       "\n",
       "    .dataframe thead th {\n",
       "        text-align: right;\n",
       "    }\n",
       "</style>\n",
       "<table border=\"1\" class=\"dataframe\">\n",
       "  <thead>\n",
       "    <tr style=\"text-align: right;\">\n",
       "      <th></th>\n",
       "      <th>crops</th>\n",
       "      <th>strucpro</th>\n",
       "      <th>geo</th>\n",
       "      <th>variable</th>\n",
       "      <th>value</th>\n",
       "    </tr>\n",
       "  </thead>\n",
       "  <tbody>\n",
       "    <tr>\n",
       "      <th>1410</th>\n",
       "      <td>R1000</td>\n",
       "      <td>YI_HU_EU</td>\n",
       "      <td>BA</td>\n",
       "      <td>2000</td>\n",
       "      <td>6.52</td>\n",
       "    </tr>\n",
       "    <tr>\n",
       "      <th>1419</th>\n",
       "      <td>R1000</td>\n",
       "      <td>YI_HU_EU</td>\n",
       "      <td>EL</td>\n",
       "      <td>2000</td>\n",
       "      <td>29.92</td>\n",
       "    </tr>\n",
       "    <tr>\n",
       "      <th>1421</th>\n",
       "      <td>R1000</td>\n",
       "      <td>YI_HU_EU</td>\n",
       "      <td>FI</td>\n",
       "      <td>2000</td>\n",
       "      <td>24.46</td>\n",
       "    </tr>\n",
       "    <tr>\n",
       "      <th>1423</th>\n",
       "      <td>R1000</td>\n",
       "      <td>YI_HU_EU</td>\n",
       "      <td>HR</td>\n",
       "      <td>2000</td>\n",
       "      <td>11.50</td>\n",
       "    </tr>\n",
       "    <tr>\n",
       "      <th>1425</th>\n",
       "      <td>R1000</td>\n",
       "      <td>YI_HU_EU</td>\n",
       "      <td>IE</td>\n",
       "      <td>2000</td>\n",
       "      <td>33.60</td>\n",
       "    </tr>\n",
       "  </tbody>\n",
       "</table>\n",
       "</div>"
      ],
      "text/plain": [
       "      crops  strucpro geo variable  value\n",
       "1410  R1000  YI_HU_EU  BA     2000   6.52\n",
       "1419  R1000  YI_HU_EU  EL     2000  29.92\n",
       "1421  R1000  YI_HU_EU  FI     2000  24.46\n",
       "1423  R1000  YI_HU_EU  HR     2000  11.50\n",
       "1425  R1000  YI_HU_EU  IE     2000  33.60"
      ]
     },
     "execution_count": 48,
     "metadata": {},
     "output_type": "execute_result"
    }
   ],
   "source": [
    "yields_long_potatoes.head()"
   ]
  },
  {
   "cell_type": "code",
   "execution_count": 49,
   "id": "6713b091",
   "metadata": {},
   "outputs": [
    {
     "data": {
      "text/plain": [
       "array(['BA', 'EL', 'FI', 'HR', 'IE', 'LV', 'PT', 'RO', 'CY', 'EE', 'MK',\n",
       "       'ME', 'RS', 'XK', 'AT', 'BG', 'CZ', 'DE', 'DK', 'ES', 'FR', 'HU',\n",
       "       'IT', 'LT', 'LU', 'NL', 'NO', 'PL', 'SE', 'SI', 'SK', 'UK', 'BE',\n",
       "       'CH', 'TR', 'AL', 'IS'], dtype=object)"
      ]
     },
     "execution_count": 49,
     "metadata": {},
     "output_type": "execute_result"
    }
   ],
   "source": [
    "# What is the code for the eu, I'll look at all distinct codes to find it\n",
    "\n",
    "yields_long_potatoes.geo.unique()"
   ]
  },
  {
   "cell_type": "code",
   "execution_count": 50,
   "id": "95881dc3",
   "metadata": {},
   "outputs": [
    {
     "name": "stdout",
     "output_type": "stream",
     "text": [
      "(540, 5)\n",
      "(540, 5)\n"
     ]
    },
    {
     "name": "stderr",
     "output_type": "stream",
     "text": [
      "C:\\Users\\justi\\AppData\\Local\\Temp\\ipykernel_14076\\3667152337.py:3: SettingWithCopyWarning: \n",
      "A value is trying to be set on a copy of a slice from a DataFrame\n",
      "\n",
      "See the caveats in the documentation: https://pandas.pydata.org/pandas-docs/stable/user_guide/indexing.html#returning-a-view-versus-a-copy\n",
      "  yields_long_potatoes.dropna(inplace = True)\n"
     ]
    }
   ],
   "source": [
    "len(yields_long_potatoes.geo.unique())\n",
    "print(yields_long_potatoes.shape)\n",
    "yields_long_potatoes.dropna(inplace = True)\n",
    "print(yields_long_potatoes.shape)"
   ]
  },
  {
   "cell_type": "code",
   "execution_count": 51,
   "id": "2acacfd3",
   "metadata": {},
   "outputs": [
    {
     "data": {
      "text/plain": [
       "crops       0\n",
       "strucpro    0\n",
       "geo         0\n",
       "variable    0\n",
       "value       0\n",
       "dtype: int64"
      ]
     },
     "execution_count": 51,
     "metadata": {},
     "output_type": "execute_result"
    }
   ],
   "source": [
    "yields_long_potatoes.isnull().sum()"
   ]
  },
  {
   "cell_type": "code",
   "execution_count": 52,
   "id": "bcd1dd2d",
   "metadata": {},
   "outputs": [
    {
     "data": {
      "text/html": [
       "<div>\n",
       "<style scoped>\n",
       "    .dataframe tbody tr th:only-of-type {\n",
       "        vertical-align: middle;\n",
       "    }\n",
       "\n",
       "    .dataframe tbody tr th {\n",
       "        vertical-align: top;\n",
       "    }\n",
       "\n",
       "    .dataframe thead th {\n",
       "        text-align: right;\n",
       "    }\n",
       "</style>\n",
       "<table border=\"1\" class=\"dataframe\">\n",
       "  <thead>\n",
       "    <tr style=\"text-align: right;\">\n",
       "      <th></th>\n",
       "      <th>crops</th>\n",
       "      <th>strucpro</th>\n",
       "      <th>geo</th>\n",
       "      <th>variable</th>\n",
       "      <th>value</th>\n",
       "    </tr>\n",
       "  </thead>\n",
       "  <tbody>\n",
       "    <tr>\n",
       "      <th>1425</th>\n",
       "      <td>R1000</td>\n",
       "      <td>YI_HU_EU</td>\n",
       "      <td>IE</td>\n",
       "      <td>2000</td>\n",
       "      <td>33.60</td>\n",
       "    </tr>\n",
       "    <tr>\n",
       "      <th>2927</th>\n",
       "      <td>R1000</td>\n",
       "      <td>YI_HU_EU</td>\n",
       "      <td>IE</td>\n",
       "      <td>2001</td>\n",
       "      <td>33.50</td>\n",
       "    </tr>\n",
       "    <tr>\n",
       "      <th>4429</th>\n",
       "      <td>R1000</td>\n",
       "      <td>YI_HU_EU</td>\n",
       "      <td>IE</td>\n",
       "      <td>2002</td>\n",
       "      <td>33.70</td>\n",
       "    </tr>\n",
       "    <tr>\n",
       "      <th>5931</th>\n",
       "      <td>R1000</td>\n",
       "      <td>YI_HU_EU</td>\n",
       "      <td>IE</td>\n",
       "      <td>2003</td>\n",
       "      <td>34.50</td>\n",
       "    </tr>\n",
       "    <tr>\n",
       "      <th>7433</th>\n",
       "      <td>R1000</td>\n",
       "      <td>YI_HU_EU</td>\n",
       "      <td>IE</td>\n",
       "      <td>2004</td>\n",
       "      <td>41.40</td>\n",
       "    </tr>\n",
       "    <tr>\n",
       "      <th>8935</th>\n",
       "      <td>R1000</td>\n",
       "      <td>YI_HU_EU</td>\n",
       "      <td>IE</td>\n",
       "      <td>2005</td>\n",
       "      <td>34.70</td>\n",
       "    </tr>\n",
       "    <tr>\n",
       "      <th>10437</th>\n",
       "      <td>R1000</td>\n",
       "      <td>YI_HU_EU</td>\n",
       "      <td>IE</td>\n",
       "      <td>2006</td>\n",
       "      <td>33.40</td>\n",
       "    </tr>\n",
       "    <tr>\n",
       "      <th>11939</th>\n",
       "      <td>R1000</td>\n",
       "      <td>YI_HU_EU</td>\n",
       "      <td>IE</td>\n",
       "      <td>2007</td>\n",
       "      <td>34.00</td>\n",
       "    </tr>\n",
       "    <tr>\n",
       "      <th>13441</th>\n",
       "      <td>R1000</td>\n",
       "      <td>YI_HU_EU</td>\n",
       "      <td>IE</td>\n",
       "      <td>2008</td>\n",
       "      <td>30.70</td>\n",
       "    </tr>\n",
       "    <tr>\n",
       "      <th>14943</th>\n",
       "      <td>R1000</td>\n",
       "      <td>YI_HU_EU</td>\n",
       "      <td>IE</td>\n",
       "      <td>2009</td>\n",
       "      <td>27.60</td>\n",
       "    </tr>\n",
       "    <tr>\n",
       "      <th>16445</th>\n",
       "      <td>R1000</td>\n",
       "      <td>YI_HU_EU</td>\n",
       "      <td>IE</td>\n",
       "      <td>2010</td>\n",
       "      <td>34.40</td>\n",
       "    </tr>\n",
       "    <tr>\n",
       "      <th>17947</th>\n",
       "      <td>R1000</td>\n",
       "      <td>YI_HU_EU</td>\n",
       "      <td>IE</td>\n",
       "      <td>2011</td>\n",
       "      <td>34.40</td>\n",
       "    </tr>\n",
       "    <tr>\n",
       "      <th>19449</th>\n",
       "      <td>R1000</td>\n",
       "      <td>YI_HU_EU</td>\n",
       "      <td>IE</td>\n",
       "      <td>2012</td>\n",
       "      <td>25.80</td>\n",
       "    </tr>\n",
       "    <tr>\n",
       "      <th>20951</th>\n",
       "      <td>R1000</td>\n",
       "      <td>YI_HU_EU</td>\n",
       "      <td>IE</td>\n",
       "      <td>2013</td>\n",
       "      <td>38.20</td>\n",
       "    </tr>\n",
       "    <tr>\n",
       "      <th>22453</th>\n",
       "      <td>R1000</td>\n",
       "      <td>YI_HU_EU</td>\n",
       "      <td>IE</td>\n",
       "      <td>2014</td>\n",
       "      <td>40.50</td>\n",
       "    </tr>\n",
       "    <tr>\n",
       "      <th>23955</th>\n",
       "      <td>R1000</td>\n",
       "      <td>YI_HU_EU</td>\n",
       "      <td>IE</td>\n",
       "      <td>2015</td>\n",
       "      <td>42.27</td>\n",
       "    </tr>\n",
       "    <tr>\n",
       "      <th>25457</th>\n",
       "      <td>R1000</td>\n",
       "      <td>YI_HU_EU</td>\n",
       "      <td>IE</td>\n",
       "      <td>2016</td>\n",
       "      <td>38.93</td>\n",
       "    </tr>\n",
       "    <tr>\n",
       "      <th>28461</th>\n",
       "      <td>R1000</td>\n",
       "      <td>YI_HU_EU</td>\n",
       "      <td>IE</td>\n",
       "      <td>2018</td>\n",
       "      <td>33.19</td>\n",
       "    </tr>\n",
       "    <tr>\n",
       "      <th>29963</th>\n",
       "      <td>R1000</td>\n",
       "      <td>YI_HU_EU</td>\n",
       "      <td>IE</td>\n",
       "      <td>2019</td>\n",
       "      <td>44.10</td>\n",
       "    </tr>\n",
       "    <tr>\n",
       "      <th>31465</th>\n",
       "      <td>R1000</td>\n",
       "      <td>YI_HU_EU</td>\n",
       "      <td>IE</td>\n",
       "      <td>2020</td>\n",
       "      <td>33.78</td>\n",
       "    </tr>\n",
       "    <tr>\n",
       "      <th>32967</th>\n",
       "      <td>R1000</td>\n",
       "      <td>YI_HU_EU</td>\n",
       "      <td>IE</td>\n",
       "      <td>2021</td>\n",
       "      <td>45.62</td>\n",
       "    </tr>\n",
       "  </tbody>\n",
       "</table>\n",
       "</div>"
      ],
      "text/plain": [
       "       crops  strucpro geo variable  value\n",
       "1425   R1000  YI_HU_EU  IE     2000  33.60\n",
       "2927   R1000  YI_HU_EU  IE     2001  33.50\n",
       "4429   R1000  YI_HU_EU  IE     2002  33.70\n",
       "5931   R1000  YI_HU_EU  IE     2003  34.50\n",
       "7433   R1000  YI_HU_EU  IE     2004  41.40\n",
       "8935   R1000  YI_HU_EU  IE     2005  34.70\n",
       "10437  R1000  YI_HU_EU  IE     2006  33.40\n",
       "11939  R1000  YI_HU_EU  IE     2007  34.00\n",
       "13441  R1000  YI_HU_EU  IE     2008  30.70\n",
       "14943  R1000  YI_HU_EU  IE     2009  27.60\n",
       "16445  R1000  YI_HU_EU  IE     2010  34.40\n",
       "17947  R1000  YI_HU_EU  IE     2011  34.40\n",
       "19449  R1000  YI_HU_EU  IE     2012  25.80\n",
       "20951  R1000  YI_HU_EU  IE     2013  38.20\n",
       "22453  R1000  YI_HU_EU  IE     2014  40.50\n",
       "23955  R1000  YI_HU_EU  IE     2015  42.27\n",
       "25457  R1000  YI_HU_EU  IE     2016  38.93\n",
       "28461  R1000  YI_HU_EU  IE     2018  33.19\n",
       "29963  R1000  YI_HU_EU  IE     2019  44.10\n",
       "31465  R1000  YI_HU_EU  IE     2020  33.78\n",
       "32967  R1000  YI_HU_EU  IE     2021  45.62"
      ]
     },
     "execution_count": 52,
     "metadata": {},
     "output_type": "execute_result"
    }
   ],
   "source": [
    "yields_long_potatoes[yields_long_potatoes.geo == 'IE']"
   ]
  },
  {
   "cell_type": "code",
   "execution_count": 53,
   "id": "02420634",
   "metadata": {},
   "outputs": [
    {
     "data": {
      "text/plain": [
       "10    34.40\n",
       "11    34.40\n",
       "12    25.80\n",
       "13    38.20\n",
       "14    40.50\n",
       "15    42.27\n",
       "16    38.93\n",
       "17      NaN\n",
       "18    33.19\n",
       "19    44.10\n",
       "20    33.78\n",
       "21    45.62\n",
       "22      NaN\n",
       "Name: IE, dtype: float64"
      ]
     },
     "execution_count": 53,
     "metadata": {},
     "output_type": "execute_result"
    }
   ],
   "source": [
    "yields_potatoes_country_wide = yields_long_potatoes.pivot_table(index = ['crops', 'strucpro', 'variable'],\n",
    "                                                                columns = 'geo', values = 'value')\n",
    "\n",
    "yields_potatoes_country_wide.reset_index(inplace = True)\n",
    "\n",
    "yields_potatoes_country_wide_2010 = yields_potatoes_country_wide[yields_potatoes_country_wide.variable >= '2010']\n",
    "\n",
    "#yields_potatoes_country_wide_2010.dropna(axis = 1, inplace = True)\n",
    "\n",
    "yields_potatoes_country_wide_2010.IE"
   ]
  },
  {
   "cell_type": "code",
   "execution_count": 54,
   "id": "d020fdc9",
   "metadata": {},
   "outputs": [
    {
     "name": "stderr",
     "output_type": "stream",
     "text": [
      "C:\\Users\\justi\\AppData\\Local\\Temp\\ipykernel_14076\\3539115122.py:16: SettingWithCopyWarning: \n",
      "A value is trying to be set on a copy of a slice from a DataFrame\n",
      "\n",
      "See the caveats in the documentation: https://pandas.pydata.org/pandas-docs/stable/user_guide/indexing.html#returning-a-view-versus-a-copy\n",
      "  yields_potatoes_country_wide_2010.dropna(axis = 1, inplace = True)\n"
     ]
    },
    {
     "data": {
      "text/plain": [
       "geo\n",
       "crops       0\n",
       "strucpro    0\n",
       "variable    0\n",
       "AT          0\n",
       "BA          0\n",
       "BG          0\n",
       "CY          0\n",
       "CZ          0\n",
       "DE          0\n",
       "DK          0\n",
       "EE          0\n",
       "EL          0\n",
       "ES          0\n",
       "FI          0\n",
       "HR          0\n",
       "IE          0\n",
       "LT          0\n",
       "LU          0\n",
       "ME          0\n",
       "MK          0\n",
       "PL          0\n",
       "PT          0\n",
       "RO          0\n",
       "SE          0\n",
       "SI          0\n",
       "SK          0\n",
       "XK          0\n",
       "dtype: int64"
      ]
     },
     "execution_count": 54,
     "metadata": {},
     "output_type": "execute_result"
    }
   ],
   "source": [
    "# I'm going to test for independence, I want each country to be a column for this\n",
    "\n",
    "\n",
    "yields_potatoes_country_wide = yields_long_potatoes.pivot_table(index = ['crops', 'strucpro', 'variable'],\n",
    "                                                                columns = 'geo', values = 'value')\n",
    "\n",
    "yields_potatoes_country_wide.reset_index(inplace = True)\n",
    "\n",
    "# Many countries only have data from 2010 so I'm filtering for years after 2010\n",
    "\n",
    "\n",
    "yields_potatoes_country_wide_2010 = yields_potatoes_country_wide.query('variable >= \"2010\" & variable != \"2017\" & variable <= \"2021\"')\n",
    "\n",
    "# There are still some countries with missing values because there aren't many I'll simply drop those columns\n",
    "\n",
    "yields_potatoes_country_wide_2010.dropna(axis = 1, inplace = True)\n",
    "\n",
    "# check if there are any nan values left\n",
    "\n",
    "yields_potatoes_country_wide_2010.isnull().sum()"
   ]
  },
  {
   "cell_type": "code",
   "execution_count": 55,
   "id": "e9beeff3",
   "metadata": {},
   "outputs": [],
   "source": [
    "def test_independence(df, var1, var):\n",
    "    r, p = pearsonr(df[var1], df[var2])\n",
    "    return r, p"
   ]
  },
  {
   "cell_type": "code",
   "execution_count": 56,
   "id": "48bbc2aa",
   "metadata": {},
   "outputs": [],
   "source": [
    "variables = list(yields_potatoes_country_wide_2010.select_dtypes(include = 'float').columns)\n",
    "\n",
    "results = []\n",
    "\n",
    "for i in range(len(variables)):\n",
    "    for j in range(i+1, len(variables)):\n",
    "        var1 = variables[i]\n",
    "        var2 = variables[j]\n",
    "        r, p = test_independence(yields_potatoes_country_wide_2010, var1, var2)\n",
    "        if p < 0.05:\n",
    "            results.append('There is a significant relationship between {} and {}'.format(var1, var2))\n",
    "        else:\n",
    "            results.append('There is no significant relationship between {} and {}'.format(var1, var2))"
   ]
  },
  {
   "cell_type": "code",
   "execution_count": 57,
   "id": "5bf59980",
   "metadata": {},
   "outputs": [],
   "source": [
    "results_ie = [s for s in results if 'IE' in s]"
   ]
  },
  {
   "cell_type": "code",
   "execution_count": 58,
   "id": "9cbec4f6",
   "metadata": {},
   "outputs": [
    {
     "name": "stdout",
     "output_type": "stream",
     "text": [
      "23\n"
     ]
    },
    {
     "data": {
      "text/plain": [
       "['There is no significant relationship between AT and IE',\n",
       " 'There is no significant relationship between BA and IE',\n",
       " 'There is no significant relationship between BG and IE',\n",
       " 'There is no significant relationship between CY and IE',\n",
       " 'There is no significant relationship between CZ and IE',\n",
       " 'There is no significant relationship between DE and IE',\n",
       " 'There is no significant relationship between DK and IE',\n",
       " 'There is no significant relationship between EE and IE',\n",
       " 'There is no significant relationship between EL and IE',\n",
       " 'There is a significant relationship between ES and IE',\n",
       " 'There is no significant relationship between FI and IE',\n",
       " 'There is no significant relationship between HR and IE',\n",
       " 'There is no significant relationship between IE and LT',\n",
       " 'There is no significant relationship between IE and LU',\n",
       " 'There is no significant relationship between IE and ME',\n",
       " 'There is no significant relationship between IE and MK',\n",
       " 'There is no significant relationship between IE and PL',\n",
       " 'There is no significant relationship between IE and PT',\n",
       " 'There is no significant relationship between IE and RO',\n",
       " 'There is no significant relationship between IE and SE',\n",
       " 'There is no significant relationship between IE and SI',\n",
       " 'There is no significant relationship between IE and SK',\n",
       " 'There is no significant relationship between IE and XK']"
      ]
     },
     "execution_count": 58,
     "metadata": {},
     "output_type": "execute_result"
    }
   ],
   "source": [
    "print(len(results_ie))\n",
    "results_ie\n",
    "\n",
    "# Only one of the 23 results shows a statistically significant relationship, seen as we were using a p-value of 0.05\n",
    "# It's possible that this is entirely due to chance so I will treat the data as being independent"
   ]
  },
  {
   "cell_type": "code",
   "execution_count": 59,
   "id": "57a99559",
   "metadata": {},
   "outputs": [],
   "source": [
    "results_normal = []\n",
    "\n",
    "for var in variables:\n",
    "    stat, p = shapiro(yields_potatoes_country_wide_2010[var])\n",
    "    \n",
    "    if p > 0.05:\n",
    "        \n",
    "        results_normal.append(f'The data for {var} is likely normally distributed')\n",
    "        \n",
    "    else:\n",
    "        \n",
    "        results_normal.append(f'The data for {var} is likely not normally distributed')"
   ]
  },
  {
   "cell_type": "code",
   "execution_count": 60,
   "id": "c83b2408",
   "metadata": {},
   "outputs": [
    {
     "name": "stdout",
     "output_type": "stream",
     "text": [
      "24\n"
     ]
    },
    {
     "data": {
      "text/plain": [
       "['The data for AT is likely normally distributed',\n",
       " 'The data for BA is likely normally distributed',\n",
       " 'The data for BG is likely normally distributed',\n",
       " 'The data for CY is likely normally distributed',\n",
       " 'The data for CZ is likely normally distributed',\n",
       " 'The data for DE is likely normally distributed',\n",
       " 'The data for DK is likely not normally distributed',\n",
       " 'The data for EE is likely normally distributed',\n",
       " 'The data for EL is likely normally distributed',\n",
       " 'The data for ES is likely normally distributed',\n",
       " 'The data for FI is likely normally distributed',\n",
       " 'The data for HR is likely normally distributed',\n",
       " 'The data for IE is likely normally distributed',\n",
       " 'The data for LT is likely normally distributed',\n",
       " 'The data for LU is likely normally distributed',\n",
       " 'The data for ME is likely normally distributed',\n",
       " 'The data for MK is likely normally distributed',\n",
       " 'The data for PL is likely normally distributed',\n",
       " 'The data for PT is likely normally distributed',\n",
       " 'The data for RO is likely normally distributed',\n",
       " 'The data for SE is likely normally distributed',\n",
       " 'The data for SI is likely normally distributed',\n",
       " 'The data for SK is likely normally distributed',\n",
       " 'The data for XK is likely normally distributed']"
      ]
     },
     "execution_count": 60,
     "metadata": {},
     "output_type": "execute_result"
    }
   ],
   "source": [
    "print(len(results_normal))\n",
    "results_normal\n",
    "\n",
    "# The data is likely normally distributed for all countries data with the exception of DK\n",
    "# Howvever, we're using a p-value of 0.05 and seen as we performed 24 tests\n",
    "# It's possible that this result is just due to chance\n",
    "# As such I will treat the data as being normally distributed"
   ]
  },
  {
   "cell_type": "code",
   "execution_count": 61,
   "id": "cb1cd281",
   "metadata": {},
   "outputs": [],
   "source": [
    "# Finally let's test for constant variance\n",
    "\n",
    "results_variance = []\n",
    "\n",
    "for i in range(len(variables)):\n",
    "    for j in range(i+1, len(variables)):\n",
    "        \n",
    "        var1 = variables[i]\n",
    "        var2 = variables[j]\n",
    "        \n",
    "        stat, p = levene(yields_potatoes_country_wide_2010[var1], yields_potatoes_country_wide_2010[var2])\n",
    "        \n",
    "        if p > 0.05:\n",
    "            results_variance.append(f'The variance of {var1} and {var2} are likely equal')\n",
    "        else:\n",
    "            results_variance.append(f'The variance of {var1} and {var2} are likely not equal')"
   ]
  },
  {
   "cell_type": "code",
   "execution_count": 62,
   "id": "33fdb373",
   "metadata": {},
   "outputs": [],
   "source": [
    "results_variance_ie = [s for s in results_variance if 'IE' in s]"
   ]
  },
  {
   "cell_type": "code",
   "execution_count": 63,
   "id": "0aa9504d",
   "metadata": {},
   "outputs": [
    {
     "data": {
      "text/plain": [
       "['The variance of AT and IE are likely equal',\n",
       " 'The variance of BA and IE are likely not equal',\n",
       " 'The variance of BG and IE are likely equal',\n",
       " 'The variance of CY and IE are likely not equal',\n",
       " 'The variance of CZ and IE are likely equal',\n",
       " 'The variance of DE and IE are likely equal',\n",
       " 'The variance of DK and IE are likely equal',\n",
       " 'The variance of EE and IE are likely not equal',\n",
       " 'The variance of EL and IE are likely equal',\n",
       " 'The variance of ES and IE are likely not equal',\n",
       " 'The variance of FI and IE are likely not equal',\n",
       " 'The variance of HR and IE are likely not equal',\n",
       " 'The variance of IE and LT are likely not equal',\n",
       " 'The variance of IE and LU are likely equal',\n",
       " 'The variance of IE and ME are likely not equal',\n",
       " 'The variance of IE and MK are likely not equal',\n",
       " 'The variance of IE and PL are likely equal',\n",
       " 'The variance of IE and PT are likely equal',\n",
       " 'The variance of IE and RO are likely not equal',\n",
       " 'The variance of IE and SE are likely not equal',\n",
       " 'The variance of IE and SI are likely equal',\n",
       " 'The variance of IE and SK are likely not equal',\n",
       " 'The variance of IE and XK are likely equal']"
      ]
     },
     "execution_count": 63,
     "metadata": {},
     "output_type": "execute_result"
    }
   ],
   "source": [
    "results_variance_ie\n",
    "\n",
    "# The variances are equal for some, unequal for others"
   ]
  },
  {
   "cell_type": "code",
   "execution_count": 64,
   "id": "604600b8",
   "metadata": {},
   "outputs": [],
   "source": [
    "# The data is independent and normal.\n",
    "# Although for many countries, IE does not have equal variance\n",
    "# The assumptions for ANOVA are almost met so I will in the first instance run an ANOVA"
   ]
  },
  {
   "cell_type": "code",
   "execution_count": 65,
   "id": "35ede349",
   "metadata": {},
   "outputs": [
    {
     "data": {
      "text/html": [
       "<div>\n",
       "<style scoped>\n",
       "    .dataframe tbody tr th:only-of-type {\n",
       "        vertical-align: middle;\n",
       "    }\n",
       "\n",
       "    .dataframe tbody tr th {\n",
       "        vertical-align: top;\n",
       "    }\n",
       "\n",
       "    .dataframe thead th {\n",
       "        text-align: right;\n",
       "    }\n",
       "</style>\n",
       "<table border=\"1\" class=\"dataframe\">\n",
       "  <thead>\n",
       "    <tr style=\"text-align: right;\">\n",
       "      <th>geo</th>\n",
       "      <th>crops</th>\n",
       "      <th>strucpro</th>\n",
       "      <th>variable</th>\n",
       "      <th>AT</th>\n",
       "      <th>BA</th>\n",
       "      <th>BG</th>\n",
       "      <th>CY</th>\n",
       "      <th>CZ</th>\n",
       "      <th>DE</th>\n",
       "      <th>DK</th>\n",
       "      <th>...</th>\n",
       "      <th>LU</th>\n",
       "      <th>ME</th>\n",
       "      <th>MK</th>\n",
       "      <th>PL</th>\n",
       "      <th>PT</th>\n",
       "      <th>RO</th>\n",
       "      <th>SE</th>\n",
       "      <th>SI</th>\n",
       "      <th>SK</th>\n",
       "      <th>XK</th>\n",
       "    </tr>\n",
       "  </thead>\n",
       "  <tbody>\n",
       "    <tr>\n",
       "      <th>10</th>\n",
       "      <td>R1000</td>\n",
       "      <td>YI_HU_EU</td>\n",
       "      <td>2010</td>\n",
       "      <td>30.57</td>\n",
       "      <td>10.39</td>\n",
       "      <td>18.19</td>\n",
       "      <td>19.27</td>\n",
       "      <td>24.56</td>\n",
       "      <td>39.88</td>\n",
       "      <td>35.30</td>\n",
       "      <td>...</td>\n",
       "      <td>31.74</td>\n",
       "      <td>14.60</td>\n",
       "      <td>15.10</td>\n",
       "      <td>17.9</td>\n",
       "      <td>15.03</td>\n",
       "      <td>13.29</td>\n",
       "      <td>30.01</td>\n",
       "      <td>24.54</td>\n",
       "      <td>14.75</td>\n",
       "      <td>23.23</td>\n",
       "    </tr>\n",
       "    <tr>\n",
       "      <th>11</th>\n",
       "      <td>R1000</td>\n",
       "      <td>YI_HU_EU</td>\n",
       "      <td>2011</td>\n",
       "      <td>35.71</td>\n",
       "      <td>10.98</td>\n",
       "      <td>14.24</td>\n",
       "      <td>24.89</td>\n",
       "      <td>30.45</td>\n",
       "      <td>45.76</td>\n",
       "      <td>38.90</td>\n",
       "      <td>...</td>\n",
       "      <td>30.99</td>\n",
       "      <td>16.50</td>\n",
       "      <td>14.16</td>\n",
       "      <td>20.5</td>\n",
       "      <td>14.71</td>\n",
       "      <td>16.41</td>\n",
       "      <td>31.89</td>\n",
       "      <td>26.42</td>\n",
       "      <td>20.94</td>\n",
       "      <td>23.23</td>\n",
       "    </tr>\n",
       "    <tr>\n",
       "      <th>12</th>\n",
       "      <td>R1000</td>\n",
       "      <td>YI_HU_EU</td>\n",
       "      <td>2012</td>\n",
       "      <td>30.55</td>\n",
       "      <td>8.13</td>\n",
       "      <td>10.15</td>\n",
       "      <td>18.07</td>\n",
       "      <td>27.98</td>\n",
       "      <td>44.75</td>\n",
       "      <td>42.10</td>\n",
       "      <td>...</td>\n",
       "      <td>32.26</td>\n",
       "      <td>11.80</td>\n",
       "      <td>12.68</td>\n",
       "      <td>24.4</td>\n",
       "      <td>17.79</td>\n",
       "      <td>10.75</td>\n",
       "      <td>32.55</td>\n",
       "      <td>23.41</td>\n",
       "      <td>18.49</td>\n",
       "      <td>10.45</td>\n",
       "    </tr>\n",
       "    <tr>\n",
       "      <th>13</th>\n",
       "      <td>R1000</td>\n",
       "      <td>YI_HU_EU</td>\n",
       "      <td>2013</td>\n",
       "      <td>28.59</td>\n",
       "      <td>10.47</td>\n",
       "      <td>15.69</td>\n",
       "      <td>22.74</td>\n",
       "      <td>23.12</td>\n",
       "      <td>39.83</td>\n",
       "      <td>40.00</td>\n",
       "      <td>...</td>\n",
       "      <td>29.59</td>\n",
       "      <td>14.90</td>\n",
       "      <td>13.95</td>\n",
       "      <td>21.4</td>\n",
       "      <td>18.22</td>\n",
       "      <td>15.85</td>\n",
       "      <td>33.76</td>\n",
       "      <td>19.47</td>\n",
       "      <td>20.70</td>\n",
       "      <td>18.31</td>\n",
       "    </tr>\n",
       "    <tr>\n",
       "      <th>14</th>\n",
       "      <td>R1000</td>\n",
       "      <td>YI_HU_EU</td>\n",
       "      <td>2014</td>\n",
       "      <td>35.10</td>\n",
       "      <td>8.71</td>\n",
       "      <td>13.01</td>\n",
       "      <td>23.92</td>\n",
       "      <td>29.07</td>\n",
       "      <td>47.42</td>\n",
       "      <td>43.12</td>\n",
       "      <td>...</td>\n",
       "      <td>31.24</td>\n",
       "      <td>14.78</td>\n",
       "      <td>14.94</td>\n",
       "      <td>23.6</td>\n",
       "      <td>19.84</td>\n",
       "      <td>17.37</td>\n",
       "      <td>34.57</td>\n",
       "      <td>28.86</td>\n",
       "      <td>20.46</td>\n",
       "      <td>20.33</td>\n",
       "    </tr>\n",
       "  </tbody>\n",
       "</table>\n",
       "<p>5 rows × 27 columns</p>\n",
       "</div>"
      ],
      "text/plain": [
       "geo  crops  strucpro variable     AT     BA     BG     CY     CZ     DE  \\\n",
       "10   R1000  YI_HU_EU     2010  30.57  10.39  18.19  19.27  24.56  39.88   \n",
       "11   R1000  YI_HU_EU     2011  35.71  10.98  14.24  24.89  30.45  45.76   \n",
       "12   R1000  YI_HU_EU     2012  30.55   8.13  10.15  18.07  27.98  44.75   \n",
       "13   R1000  YI_HU_EU     2013  28.59  10.47  15.69  22.74  23.12  39.83   \n",
       "14   R1000  YI_HU_EU     2014  35.10   8.71  13.01  23.92  29.07  47.42   \n",
       "\n",
       "geo     DK  ...     LU     ME     MK    PL     PT     RO     SE     SI     SK  \\\n",
       "10   35.30  ...  31.74  14.60  15.10  17.9  15.03  13.29  30.01  24.54  14.75   \n",
       "11   38.90  ...  30.99  16.50  14.16  20.5  14.71  16.41  31.89  26.42  20.94   \n",
       "12   42.10  ...  32.26  11.80  12.68  24.4  17.79  10.75  32.55  23.41  18.49   \n",
       "13   40.00  ...  29.59  14.90  13.95  21.4  18.22  15.85  33.76  19.47  20.70   \n",
       "14   43.12  ...  31.24  14.78  14.94  23.6  19.84  17.37  34.57  28.86  20.46   \n",
       "\n",
       "geo     XK  \n",
       "10   23.23  \n",
       "11   23.23  \n",
       "12   10.45  \n",
       "13   18.31  \n",
       "14   20.33  \n",
       "\n",
       "[5 rows x 27 columns]"
      ]
     },
     "execution_count": 65,
     "metadata": {},
     "output_type": "execute_result"
    }
   ],
   "source": [
    "yields_potatoes_country_wide_2010.head()"
   ]
  },
  {
   "cell_type": "code",
   "execution_count": 66,
   "id": "fd368a88",
   "metadata": {
    "scrolled": true
   },
   "outputs": [],
   "source": [
    "yields_data_anova = yields_potatoes_country_wide_2010.loc[:, 'AT':'XK']\n",
    "\n",
    "yields_data_anova_values = yields_data_anova.values"
   ]
  },
  {
   "cell_type": "code",
   "execution_count": 67,
   "id": "38cf2b4e",
   "metadata": {},
   "outputs": [
    {
     "name": "stdout",
     "output_type": "stream",
     "text": [
      "There is a statistically significant difference betweent the means\n"
     ]
    }
   ],
   "source": [
    "stat, p = f_oneway(*yields_data_anova_values.T)\n",
    "\n",
    "if p > 0.05:\n",
    "    print('There is no statistically significant difference between the means')\n",
    "else:\n",
    "    print('There is a statistically significant difference betweent the means')\n",
    "\n",
    "\n"
   ]
  },
  {
   "cell_type": "code",
   "execution_count": 68,
   "id": "ed3e7082",
   "metadata": {},
   "outputs": [],
   "source": [
    "# Because the variance of the data was not the same, we will use a non-parametric test, specifically the kruskal-wallis test\n",
    "# see class 10 notes for assumptions\n",
    "# The data has the same scale etc so we can use it"
   ]
  },
  {
   "cell_type": "code",
   "execution_count": 69,
   "id": "22a85d65",
   "metadata": {},
   "outputs": [
    {
     "name": "stdout",
     "output_type": "stream",
     "text": [
      "There is a statistically significant difference betweent the means\n"
     ]
    }
   ],
   "source": [
    "stat, p = kruskal(*yields_data_anova_values.T)\n",
    "\n",
    "if p > 0.05:\n",
    "    print('There is no statistically significant difference between the means')\n",
    "else:\n",
    "    print('There is a statistically significant difference betweent the means')\n",
    "    \n",
    "    \n",
    "# The kruskal test confirms there is a statistically significant difference between the means of the yield data\n",
    "# My goal in this project shall be to shed some light on what's explaining those yield differences"
   ]
  },
  {
   "cell_type": "code",
   "execution_count": null,
   "id": "aca82712",
   "metadata": {},
   "outputs": [],
   "source": [
    "# Create a histogram and overlay a density curve"
   ]
  },
  {
   "cell_type": "code",
   "execution_count": 71,
   "id": "12e1fa34",
   "metadata": {},
   "outputs": [],
   "source": [
    "yields_long = yields_potatoes_country_wide_2010.melt(id_vars = ['crops', 'strucpro', 'variable'])"
   ]
  },
  {
   "cell_type": "code",
   "execution_count": 72,
   "id": "b1a76716",
   "metadata": {},
   "outputs": [
    {
     "data": {
      "text/html": [
       "<div>\n",
       "<style scoped>\n",
       "    .dataframe tbody tr th:only-of-type {\n",
       "        vertical-align: middle;\n",
       "    }\n",
       "\n",
       "    .dataframe tbody tr th {\n",
       "        vertical-align: top;\n",
       "    }\n",
       "\n",
       "    .dataframe thead th {\n",
       "        text-align: right;\n",
       "    }\n",
       "</style>\n",
       "<table border=\"1\" class=\"dataframe\">\n",
       "  <thead>\n",
       "    <tr style=\"text-align: right;\">\n",
       "      <th></th>\n",
       "      <th>crops</th>\n",
       "      <th>strucpro</th>\n",
       "      <th>variable</th>\n",
       "      <th>geo</th>\n",
       "      <th>value</th>\n",
       "    </tr>\n",
       "  </thead>\n",
       "  <tbody>\n",
       "    <tr>\n",
       "      <th>0</th>\n",
       "      <td>R1000</td>\n",
       "      <td>YI_HU_EU</td>\n",
       "      <td>2010</td>\n",
       "      <td>AT</td>\n",
       "      <td>30.57</td>\n",
       "    </tr>\n",
       "    <tr>\n",
       "      <th>1</th>\n",
       "      <td>R1000</td>\n",
       "      <td>YI_HU_EU</td>\n",
       "      <td>2011</td>\n",
       "      <td>AT</td>\n",
       "      <td>35.71</td>\n",
       "    </tr>\n",
       "    <tr>\n",
       "      <th>2</th>\n",
       "      <td>R1000</td>\n",
       "      <td>YI_HU_EU</td>\n",
       "      <td>2012</td>\n",
       "      <td>AT</td>\n",
       "      <td>30.55</td>\n",
       "    </tr>\n",
       "    <tr>\n",
       "      <th>3</th>\n",
       "      <td>R1000</td>\n",
       "      <td>YI_HU_EU</td>\n",
       "      <td>2013</td>\n",
       "      <td>AT</td>\n",
       "      <td>28.59</td>\n",
       "    </tr>\n",
       "    <tr>\n",
       "      <th>4</th>\n",
       "      <td>R1000</td>\n",
       "      <td>YI_HU_EU</td>\n",
       "      <td>2014</td>\n",
       "      <td>AT</td>\n",
       "      <td>35.10</td>\n",
       "    </tr>\n",
       "  </tbody>\n",
       "</table>\n",
       "</div>"
      ],
      "text/plain": [
       "   crops  strucpro variable geo  value\n",
       "0  R1000  YI_HU_EU     2010  AT  30.57\n",
       "1  R1000  YI_HU_EU     2011  AT  35.71\n",
       "2  R1000  YI_HU_EU     2012  AT  30.55\n",
       "3  R1000  YI_HU_EU     2013  AT  28.59\n",
       "4  R1000  YI_HU_EU     2014  AT  35.10"
      ]
     },
     "execution_count": 72,
     "metadata": {},
     "output_type": "execute_result"
    }
   ],
   "source": [
    "yields_long.head()"
   ]
  },
  {
   "cell_type": "code",
   "execution_count": 77,
   "id": "f49fe797",
   "metadata": {},
   "outputs": [],
   "source": [
    "yields_long['label'] = np.where(yields_long.geo == 'IE', 'IE', 'Other')"
   ]
  },
  {
   "cell_type": "code",
   "execution_count": 81,
   "id": "571c9aec",
   "metadata": {},
   "outputs": [
    {
     "data": {
      "text/html": [
       "<div>\n",
       "<style scoped>\n",
       "    .dataframe tbody tr th:only-of-type {\n",
       "        vertical-align: middle;\n",
       "    }\n",
       "\n",
       "    .dataframe tbody tr th {\n",
       "        vertical-align: top;\n",
       "    }\n",
       "\n",
       "    .dataframe thead th {\n",
       "        text-align: right;\n",
       "    }\n",
       "</style>\n",
       "<table border=\"1\" class=\"dataframe\">\n",
       "  <thead>\n",
       "    <tr style=\"text-align: right;\">\n",
       "      <th></th>\n",
       "      <th>crops</th>\n",
       "      <th>strucpro</th>\n",
       "      <th>variable</th>\n",
       "      <th>geo</th>\n",
       "      <th>value</th>\n",
       "      <th>label</th>\n",
       "    </tr>\n",
       "  </thead>\n",
       "  <tbody>\n",
       "    <tr>\n",
       "      <th>0</th>\n",
       "      <td>R1000</td>\n",
       "      <td>YI_HU_EU</td>\n",
       "      <td>2010</td>\n",
       "      <td>AT</td>\n",
       "      <td>30.57</td>\n",
       "      <td>Other</td>\n",
       "    </tr>\n",
       "    <tr>\n",
       "      <th>1</th>\n",
       "      <td>R1000</td>\n",
       "      <td>YI_HU_EU</td>\n",
       "      <td>2011</td>\n",
       "      <td>AT</td>\n",
       "      <td>35.71</td>\n",
       "      <td>Other</td>\n",
       "    </tr>\n",
       "    <tr>\n",
       "      <th>2</th>\n",
       "      <td>R1000</td>\n",
       "      <td>YI_HU_EU</td>\n",
       "      <td>2012</td>\n",
       "      <td>AT</td>\n",
       "      <td>30.55</td>\n",
       "      <td>Other</td>\n",
       "    </tr>\n",
       "    <tr>\n",
       "      <th>3</th>\n",
       "      <td>R1000</td>\n",
       "      <td>YI_HU_EU</td>\n",
       "      <td>2013</td>\n",
       "      <td>AT</td>\n",
       "      <td>28.59</td>\n",
       "      <td>Other</td>\n",
       "    </tr>\n",
       "    <tr>\n",
       "      <th>4</th>\n",
       "      <td>R1000</td>\n",
       "      <td>YI_HU_EU</td>\n",
       "      <td>2014</td>\n",
       "      <td>AT</td>\n",
       "      <td>35.10</td>\n",
       "      <td>Other</td>\n",
       "    </tr>\n",
       "  </tbody>\n",
       "</table>\n",
       "</div>"
      ],
      "text/plain": [
       "   crops  strucpro variable geo  value  label\n",
       "0  R1000  YI_HU_EU     2010  AT  30.57  Other\n",
       "1  R1000  YI_HU_EU     2011  AT  35.71  Other\n",
       "2  R1000  YI_HU_EU     2012  AT  30.55  Other\n",
       "3  R1000  YI_HU_EU     2013  AT  28.59  Other\n",
       "4  R1000  YI_HU_EU     2014  AT  35.10  Other"
      ]
     },
     "execution_count": 81,
     "metadata": {},
     "output_type": "execute_result"
    }
   ],
   "source": [
    "yields_long.head()"
   ]
  },
  {
   "cell_type": "code",
   "execution_count": 90,
   "id": "4343ca4a",
   "metadata": {},
   "outputs": [],
   "source": [
    "yields_long_agg = yields_long.groupby(['variable', 'label']).mean().reset_index()"
   ]
  },
  {
   "cell_type": "code",
   "execution_count": 93,
   "id": "80fa0c19",
   "metadata": {},
   "outputs": [
    {
     "data": {
      "text/html": [
       "<div>\n",
       "<style scoped>\n",
       "    .dataframe tbody tr th:only-of-type {\n",
       "        vertical-align: middle;\n",
       "    }\n",
       "\n",
       "    .dataframe tbody tr th {\n",
       "        vertical-align: top;\n",
       "    }\n",
       "\n",
       "    .dataframe thead th {\n",
       "        text-align: right;\n",
       "    }\n",
       "</style>\n",
       "<table border=\"1\" class=\"dataframe\">\n",
       "  <thead>\n",
       "    <tr style=\"text-align: right;\">\n",
       "      <th></th>\n",
       "      <th>variable</th>\n",
       "      <th>label</th>\n",
       "      <th>value</th>\n",
       "    </tr>\n",
       "  </thead>\n",
       "  <tbody>\n",
       "    <tr>\n",
       "      <th>0</th>\n",
       "      <td>2010</td>\n",
       "      <td>IE</td>\n",
       "      <td>34.400000</td>\n",
       "    </tr>\n",
       "    <tr>\n",
       "      <th>1</th>\n",
       "      <td>2010</td>\n",
       "      <td>Other</td>\n",
       "      <td>22.607391</td>\n",
       "    </tr>\n",
       "    <tr>\n",
       "      <th>2</th>\n",
       "      <td>2011</td>\n",
       "      <td>IE</td>\n",
       "      <td>34.400000</td>\n",
       "    </tr>\n",
       "    <tr>\n",
       "      <th>3</th>\n",
       "      <td>2011</td>\n",
       "      <td>Other</td>\n",
       "      <td>23.863478</td>\n",
       "    </tr>\n",
       "    <tr>\n",
       "      <th>4</th>\n",
       "      <td>2012</td>\n",
       "      <td>IE</td>\n",
       "      <td>25.800000</td>\n",
       "    </tr>\n",
       "  </tbody>\n",
       "</table>\n",
       "</div>"
      ],
      "text/plain": [
       "  variable  label      value\n",
       "0     2010     IE  34.400000\n",
       "1     2010  Other  22.607391\n",
       "2     2011     IE  34.400000\n",
       "3     2011  Other  23.863478\n",
       "4     2012     IE  25.800000"
      ]
     },
     "execution_count": 93,
     "metadata": {},
     "output_type": "execute_result"
    }
   ],
   "source": [
    "yields_long_agg.head()"
   ]
  },
  {
   "cell_type": "code",
   "execution_count": 100,
   "id": "f3fefd41",
   "metadata": {},
   "outputs": [],
   "source": [
    "yields_long_agg_wide = yields_long_agg.pivot_table(index = ['variable'], columns = 'label', values = 'value').reset_index()"
   ]
  },
  {
   "cell_type": "code",
   "execution_count": 101,
   "id": "1dd9cd55",
   "metadata": {},
   "outputs": [
    {
     "data": {
      "text/html": [
       "<div>\n",
       "<style scoped>\n",
       "    .dataframe tbody tr th:only-of-type {\n",
       "        vertical-align: middle;\n",
       "    }\n",
       "\n",
       "    .dataframe tbody tr th {\n",
       "        vertical-align: top;\n",
       "    }\n",
       "\n",
       "    .dataframe thead th {\n",
       "        text-align: right;\n",
       "    }\n",
       "</style>\n",
       "<table border=\"1\" class=\"dataframe\">\n",
       "  <thead>\n",
       "    <tr style=\"text-align: right;\">\n",
       "      <th>label</th>\n",
       "      <th>variable</th>\n",
       "      <th>IE</th>\n",
       "      <th>Other</th>\n",
       "    </tr>\n",
       "  </thead>\n",
       "  <tbody>\n",
       "    <tr>\n",
       "      <th>0</th>\n",
       "      <td>2010</td>\n",
       "      <td>34.4</td>\n",
       "      <td>22.607391</td>\n",
       "    </tr>\n",
       "    <tr>\n",
       "      <th>1</th>\n",
       "      <td>2011</td>\n",
       "      <td>34.4</td>\n",
       "      <td>23.863478</td>\n",
       "    </tr>\n",
       "    <tr>\n",
       "      <th>2</th>\n",
       "      <td>2012</td>\n",
       "      <td>25.8</td>\n",
       "      <td>21.936957</td>\n",
       "    </tr>\n",
       "    <tr>\n",
       "      <th>3</th>\n",
       "      <td>2013</td>\n",
       "      <td>38.2</td>\n",
       "      <td>22.740435</td>\n",
       "    </tr>\n",
       "    <tr>\n",
       "      <th>4</th>\n",
       "      <td>2014</td>\n",
       "      <td>40.5</td>\n",
       "      <td>24.517826</td>\n",
       "    </tr>\n",
       "  </tbody>\n",
       "</table>\n",
       "</div>"
      ],
      "text/plain": [
       "label variable    IE      Other\n",
       "0         2010  34.4  22.607391\n",
       "1         2011  34.4  23.863478\n",
       "2         2012  25.8  21.936957\n",
       "3         2013  38.2  22.740435\n",
       "4         2014  40.5  24.517826"
      ]
     },
     "execution_count": 101,
     "metadata": {},
     "output_type": "execute_result"
    }
   ],
   "source": [
    "yields_long_agg_wide.head()"
   ]
  },
  {
   "cell_type": "code",
   "execution_count": 106,
   "id": "7ac95875",
   "metadata": {},
   "outputs": [
    {
     "data": {
      "image/png": "[encoded data removed]",
      "text/plain": [
       "<Figure size 432x288 with 1 Axes>"
      ]
     },
     "metadata": {
      "needs_background": "light"
     },
     "output_type": "display_data"
    }
   ],
   "source": [
    "# Plot a histogram\n",
    "\n",
    "kde_ie = gaussian_kde(yields_long_agg_wide.IE)\n",
    "kde_other = gaussian_kde(yields_long_agg_wide.Other)\n",
    "\n",
    "fig, ax = plt.subplots()\n",
    "\n",
    "ax.hist(yields_long_agg_wide.IE, alpha = 0.5, label = 'IE', density = True)\n",
    "ax.hist(yields_long_agg_wide.Other, alpha = 0.5, label = 'Other', density = True)\n",
    "\n",
    "ie_range = np.linspace(min(yields_long_agg_wide.IE), max(yields_long_agg_wide.IE), 100)\n",
    "other_range = np.linspace(min(yields_long_agg_wide.Other), max(yields_long_agg_wide.Other), 100)\n",
    "\n",
    "ax.plot(ie_range, kde_ie(ie_range), color = 'blue', label = 'IE density')\n",
    "ax.plot(other_range, kde_other(other_range), color = 'red', label = 'Other density')\n",
    "\n",
    "ax.legend()\n",
    "\n",
    "plt.show()"
   ]
  },
  {
   "cell_type": "code",
   "execution_count": 105,
   "id": "1a085479",
   "metadata": {},
   "outputs": [
    {
     "data": {
      "image/png": "[encoded data removed]",
      "text/plain": [
       "<Figure size 432x288 with 1 Axes>"
      ]
     },
     "metadata": {
      "needs_background": "light"
     },
     "output_type": "display_data"
    }
   ],
   "source": [
    "# There isn't much data here so I wont't aggregate\n",
    "\n",
    "kde = gaussian_kde(yields_long.value)\n",
    "\n",
    "fig, ax = plt.subplots()\n",
    "\n",
    "ax.hist(yields_long.value, density = True)\n",
    "\n",
    "kde_range = np.linspace(min(yields_long.value), max(yields_long.value), 100)\n",
    "\n",
    "ax.plot(kde_range, kde(kde_range))\n",
    "\n",
    "plt.show()"
   ]
  },
  {
   "cell_type": "code",
   "execution_count": 107,
   "id": "c10d6c28",
   "metadata": {},
   "outputs": [
    {
     "name": "stdout",
     "output_type": "stream",
     "text": [
      "<class 'pandas.core.frame.DataFrame'>\n",
      "RangeIndex: 264 entries, 0 to 263\n",
      "Data columns (total 6 columns):\n",
      " #   Column    Non-Null Count  Dtype  \n",
      "---  ------    --------------  -----  \n",
      " 0   crops     264 non-null    object \n",
      " 1   strucpro  264 non-null    object \n",
      " 2   variable  264 non-null    object \n",
      " 3   geo       264 non-null    object \n",
      " 4   value     264 non-null    float64\n",
      " 5   label     264 non-null    object \n",
      "dtypes: float64(1), object(5)\n",
      "memory usage: 12.5+ KB\n"
     ]
    }
   ],
   "source": [
    "yields_long.info()"
   ]
  }
 ],
 "metadata": {
  "kernelspec": {
   "display_name": "Python 3 (ipykernel)",
   "language": "python",
   "name": "python3"
  },
  "language_info": {
   "codemirror_mode": {
    "name": "ipython",
    "version": 3
   },
   "file_extension": ".py",
   "mimetype": "text/x-python",
   "name": "python",
   "nbconvert_exporter": "python",
   "pygments_lexer": "ipython3",
   "version": "3.9.12"
  }
 },
 "nbformat": 4,
 "nbformat_minor": 5
}
