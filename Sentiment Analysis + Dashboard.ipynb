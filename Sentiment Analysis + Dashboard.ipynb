{
 "cells": [
  {
   "cell_type": "code",
   "execution_count": 14,
   "id": "c92677c2",
   "metadata": {},
   "outputs": [],
   "source": [
    "from dotenv import dotenv_values\n",
    "import os\n",
    "import requests\n",
    "import json\n",
    "import pandas as pd\n",
    "import nltk\n",
    "from nltk.corpus import stopwords\n",
    "from textblob import TextBlob\n",
    "from textblob import Word"
   ]
  },
  {
   "cell_type": "code",
   "execution_count": 6,
   "id": "22db8ae8",
   "metadata": {},
   "outputs": [],
   "source": [
    "config = dotenv_values(\"C:\\\\Users\\\\justi\\\\OneDrive\\\\Documents\\\\MSc Data Analytics\\\\Semester 1 - CA 2\\\\.env\")"
   ]
  },
  {
   "cell_type": "code",
   "execution_count": 9,
   "id": "8f7bd523",
   "metadata": {},
   "outputs": [],
   "source": [
    "# Set the search query and the number of tweets to retrieve\n",
    "query = \"potatoes\"\n",
    "count = 100\n",
    "\n",
    "# Set the API endpoint and the Bearer Token for authenticating the request\n",
    "endpoint = \"https://api.twitter.com/2/tweets/search/recent\"\n",
    "bearer_token = config[\"BEARER_TOKEN\"]\n",
    "\n",
    "# Set the headers for the request\n",
    "headers = {\n",
    "    \"Authorization\": f\"Bearer {bearer_token}\",\n",
    "    \"User-Agent\": \"v2RecentSearchPython\",\n",
    "}\n",
    "\n",
    "# Set the parameters for the request\n",
    "params = {\n",
    "    \"query\": query,\n",
    "    \"max_results\": count,\n",
    "    \"expansions\": \"author_id,referenced_tweets.id\",\n",
    "    \"user.fields\": \"username\",\n",
    "    \"tweet.fields\": \"public_metrics\"\n",
    "}\n",
    "\n",
    "# Make the request to the API endpoint\n",
    "response = requests.get(endpoint, headers=headers, params=params)\n",
    "\n",
    "tweet_dicts = []\n",
    "\n",
    "# Check the status code of the response\n",
    "if response.status_code == 200:\n",
    "    # If the request was successful, parse the JSON response\n",
    "    data = response.json()\n",
    "\n",
    "    # Print the tweets\n",
    "    for tweet in data[\"data\"]:\n",
    "        tweet_dict = {\n",
    "            \"id\": tweet[\"id\"],\n",
    "            \"like_count\": tweet[\"public_metrics\"][\"like_count\"],\n",
    "            \"quote_count\": tweet[\"public_metrics\"][\"quote_count\"],\n",
    "            \"retweet_count\": tweet[\"public_metrics\"][\"retweet_count\"],\n",
    "            \"text\": tweet[\"text\"]\n",
    "        }\n",
    "        tweet_dicts.append(tweet_dict)\n",
    "else:\n",
    "    # If the request was not successful, print the error message\n",
    "    print(f\"Error: {response.status_code}\")"
   ]
  },
  {
   "cell_type": "code",
   "execution_count": 12,
   "id": "04487219",
   "metadata": {},
   "outputs": [],
   "source": [
    "tweets_df = pd.DataFrame(tweet_dicts)"
   ]
  },
  {
   "cell_type": "code",
   "execution_count": 13,
   "id": "bc4f5055",
   "metadata": {},
   "outputs": [
    {
     "data": {
      "text/html": [
       "<div>\n",
       "<style scoped>\n",
       "    .dataframe tbody tr th:only-of-type {\n",
       "        vertical-align: middle;\n",
       "    }\n",
       "\n",
       "    .dataframe tbody tr th {\n",
       "        vertical-align: top;\n",
       "    }\n",
       "\n",
       "    .dataframe thead th {\n",
       "        text-align: right;\n",
       "    }\n",
       "</style>\n",
       "<table border=\"1\" class=\"dataframe\">\n",
       "  <thead>\n",
       "    <tr style=\"text-align: right;\">\n",
       "      <th></th>\n",
       "      <th>id</th>\n",
       "      <th>like_count</th>\n",
       "      <th>quote_count</th>\n",
       "      <th>retweet_count</th>\n",
       "      <th>text</th>\n",
       "    </tr>\n",
       "  </thead>\n",
       "  <tbody>\n",
       "    <tr>\n",
       "      <th>0</th>\n",
       "      <td>1608843281768808448</td>\n",
       "      <td>0</td>\n",
       "      <td>0</td>\n",
       "      <td>0</td>\n",
       "      <td>Today's lunch specials at the Catawba Deli inc...</td>\n",
       "    </tr>\n",
       "    <tr>\n",
       "      <th>1</th>\n",
       "      <td>1608843248776413185</td>\n",
       "      <td>0</td>\n",
       "      <td>0</td>\n",
       "      <td>3135</td>\n",
       "      <td>RT @Cobratate: I got beans greens potatoes tom...</td>\n",
       "    </tr>\n",
       "    <tr>\n",
       "      <th>2</th>\n",
       "      <td>1608843235346243589</td>\n",
       "      <td>0</td>\n",
       "      <td>0</td>\n",
       "      <td>29</td>\n",
       "      <td>RT @30vocamusic: becoming potatoes - neru http...</td>\n",
       "    </tr>\n",
       "    <tr>\n",
       "      <th>3</th>\n",
       "      <td>1608843229591633920</td>\n",
       "      <td>0</td>\n",
       "      <td>0</td>\n",
       "      <td>0</td>\n",
       "      <td>Now greens, beans, potatoes, and everything el...</td>\n",
       "    </tr>\n",
       "    <tr>\n",
       "      <th>4</th>\n",
       "      <td>1608843130538962945</td>\n",
       "      <td>0</td>\n",
       "      <td>0</td>\n",
       "      <td>503</td>\n",
       "      <td>RT @catturd2: Been cooking this all day - my f...</td>\n",
       "    </tr>\n",
       "  </tbody>\n",
       "</table>\n",
       "</div>"
      ],
      "text/plain": [
       "                    id  like_count  quote_count  retweet_count  \\\n",
       "0  1608843281768808448           0            0              0   \n",
       "1  1608843248776413185           0            0           3135   \n",
       "2  1608843235346243589           0            0             29   \n",
       "3  1608843229591633920           0            0              0   \n",
       "4  1608843130538962945           0            0            503   \n",
       "\n",
       "                                                text  \n",
       "0  Today's lunch specials at the Catawba Deli inc...  \n",
       "1  RT @Cobratate: I got beans greens potatoes tom...  \n",
       "2  RT @30vocamusic: becoming potatoes - neru http...  \n",
       "3  Now greens, beans, potatoes, and everything el...  \n",
       "4  RT @catturd2: Been cooking this all day - my f...  "
      ]
     },
     "execution_count": 13,
     "metadata": {},
     "output_type": "execute_result"
    }
   ],
   "source": [
    "tweets_df.head()"
   ]
  },
  {
   "cell_type": "code",
   "execution_count": 15,
   "id": "84f00d02",
   "metadata": {},
   "outputs": [],
   "source": [
    "# I've save the dataframe as a csv file so I can reproduce my analysis with the same tweets\n",
    "#tweets_df.to_csv('tweets_df.csv')"
   ]
  },
  {
   "cell_type": "code",
   "execution_count": null,
   "id": "69966ef2",
   "metadata": {},
   "outputs": [],
   "source": [
    "# Before doing the sentiment analysis, I need to process the text to make a clearer signal"
   ]
  },
  {
   "cell_type": "code",
   "execution_count": 16,
   "id": "b2897815",
   "metadata": {},
   "outputs": [
    {
     "data": {
      "text/plain": [
       "0    today's lunch specials at the catawba deli inc...\n",
       "1    rt @cobratate: i got beans greens potatoes tom...\n",
       "2    rt @30vocamusic: becoming potatoes - neru http...\n",
       "3    now greens, beans, potatoes, and everything el...\n",
       "4    rt @catturd2: been cooking this all day - my f...\n",
       "Name: text, dtype: object"
      ]
     },
     "execution_count": 16,
     "metadata": {},
     "output_type": "execute_result"
    }
   ],
   "source": [
    "# First of all I'll make all words lower case\n",
    "\n",
    "tweets_df['text'] = tweets_df['text'].apply(lambda x: \" \".join(x.lower() for x in x.split()))\n",
    "tweets_df['text'].head()"
   ]
  },
  {
   "cell_type": "code",
   "execution_count": 17,
   "id": "3ea443f3",
   "metadata": {},
   "outputs": [
    {
     "name": "stderr",
     "output_type": "stream",
     "text": [
      "C:\\Users\\justi\\AppData\\Local\\Temp\\ipykernel_13004\\2817344102.py:3: FutureWarning: The default value of regex will change from True to False in a future version.\n",
      "  tweets_df['text'] = tweets_df['text'].str.replace('@\\w+', '')\n"
     ]
    },
    {
     "data": {
      "text/html": [
       "<div>\n",
       "<style scoped>\n",
       "    .dataframe tbody tr th:only-of-type {\n",
       "        vertical-align: middle;\n",
       "    }\n",
       "\n",
       "    .dataframe tbody tr th {\n",
       "        vertical-align: top;\n",
       "    }\n",
       "\n",
       "    .dataframe thead th {\n",
       "        text-align: right;\n",
       "    }\n",
       "</style>\n",
       "<table border=\"1\" class=\"dataframe\">\n",
       "  <thead>\n",
       "    <tr style=\"text-align: right;\">\n",
       "      <th></th>\n",
       "      <th>id</th>\n",
       "      <th>like_count</th>\n",
       "      <th>quote_count</th>\n",
       "      <th>retweet_count</th>\n",
       "      <th>text</th>\n",
       "    </tr>\n",
       "  </thead>\n",
       "  <tbody>\n",
       "    <tr>\n",
       "      <th>0</th>\n",
       "      <td>1608843281768808448</td>\n",
       "      <td>0</td>\n",
       "      <td>0</td>\n",
       "      <td>0</td>\n",
       "      <td>today's lunch specials at the catawba deli inc...</td>\n",
       "    </tr>\n",
       "    <tr>\n",
       "      <th>1</th>\n",
       "      <td>1608843248776413185</td>\n",
       "      <td>0</td>\n",
       "      <td>0</td>\n",
       "      <td>3135</td>\n",
       "      <td>rt : i got beans greens potatoes tomatoes lamb...</td>\n",
       "    </tr>\n",
       "    <tr>\n",
       "      <th>2</th>\n",
       "      <td>1608843235346243589</td>\n",
       "      <td>0</td>\n",
       "      <td>0</td>\n",
       "      <td>29</td>\n",
       "      <td>rt : becoming potatoes - neru https://t.co/3gy...</td>\n",
       "    </tr>\n",
       "    <tr>\n",
       "      <th>3</th>\n",
       "      <td>1608843229591633920</td>\n",
       "      <td>0</td>\n",
       "      <td>0</td>\n",
       "      <td>0</td>\n",
       "      <td>now greens, beans, potatoes, and everything el...</td>\n",
       "    </tr>\n",
       "    <tr>\n",
       "      <th>4</th>\n",
       "      <td>1608843130538962945</td>\n",
       "      <td>0</td>\n",
       "      <td>0</td>\n",
       "      <td>503</td>\n",
       "      <td>rt : been cooking this all day - my famous cat...</td>\n",
       "    </tr>\n",
       "  </tbody>\n",
       "</table>\n",
       "</div>"
      ],
      "text/plain": [
       "                    id  like_count  quote_count  retweet_count  \\\n",
       "0  1608843281768808448           0            0              0   \n",
       "1  1608843248776413185           0            0           3135   \n",
       "2  1608843235346243589           0            0             29   \n",
       "3  1608843229591633920           0            0              0   \n",
       "4  1608843130538962945           0            0            503   \n",
       "\n",
       "                                                text  \n",
       "0  today's lunch specials at the catawba deli inc...  \n",
       "1  rt : i got beans greens potatoes tomatoes lamb...  \n",
       "2  rt : becoming potatoes - neru https://t.co/3gy...  \n",
       "3  now greens, beans, potatoes, and everything el...  \n",
       "4  rt : been cooking this all day - my famous cat...  "
      ]
     },
     "execution_count": 17,
     "metadata": {},
     "output_type": "execute_result"
    }
   ],
   "source": [
    "# Next I'll remove twitter handles seen as these have nothing to do with the sentiment of the tweet\n",
    "\n",
    "tweets_df['text'] = tweets_df['text'].str.replace('@\\w+', '')\n",
    "tweets_df.head()"
   ]
  },
  {
   "cell_type": "code",
   "execution_count": 18,
   "id": "e6414f03",
   "metadata": {},
   "outputs": [
    {
     "name": "stderr",
     "output_type": "stream",
     "text": [
      "C:\\Users\\justi\\AppData\\Local\\Temp\\ipykernel_13004\\4247856520.py:3: FutureWarning: The default value of regex will change from True to False in a future version.\n",
      "  tweets_df['text'] = tweets_df['text'].str.replace('[^\\w\\s]', '')\n"
     ]
    }
   ],
   "source": [
    "# Next I'll remove punctuation\n",
    "\n",
    "tweets_df['text'] = tweets_df['text'].str.replace('[^\\w\\s]', '')\n",
    "tweets_df['text'].head()"
   ]
  },
  {
   "cell_type": "code",
   "execution_count": 20,
   "id": "3d0d6ab3",
   "metadata": {},
   "outputs": [],
   "source": [
    "# Next I'll remove stop words, ie commonly occurring words\n",
    "\n",
    "stop = stopwords.words('english')\n",
    "\n",
    "tweets_df['text'] = tweets_df['text'].apply(lambda x: \" \".join(x for x in x.split() if x not in stop))\n",
    "tweets_df['text'].head()"
   ]
  },
  {
   "cell_type": "code",
   "execution_count": 22,
   "id": "c9c85402",
   "metadata": {},
   "outputs": [
    {
     "name": "stdout",
     "output_type": "stream",
     "text": [
      "potatoes    95\n",
      "rt          43\n",
      "name        22\n",
      "like        21\n",
      "tomatoes    20\n",
      "sweet       20\n",
      "day         20\n",
      "chicken     17\n",
      "think       13\n",
      "dogs        12\n",
      "dtype: int64\n"
     ]
    },
    {
     "data": {
      "text/plain": [
       "0    todays lunch specials catawba deli include 2 c...\n",
       "1    got beans greens potatoes tomatoes lambs rams ...\n",
       "2            becoming potatoes neru httpstco3gyi1s8lt5\n",
       "3    greens beans potatoes everything else saybut s...\n",
       "4    cooking day famous cattle trail stew basically...\n",
       "Name: text, dtype: object"
      ]
     },
     "execution_count": 22,
     "metadata": {},
     "output_type": "execute_result"
    }
   ],
   "source": [
    "# I'll next look at frequently occurring words, some of which might not be relevant for sentiment analysis\n",
    "# I'll remove rt, ie retweet because it's not relevant for sentiment\n",
    "\n",
    "freq = pd.Series(' '.join(tweets_df['text']).split()).value_counts()[:10]\n",
    "print(freq)\n",
    "\n",
    "tweets_df['text'] = tweets_df['text'].apply(lambda x: \" \".join(x for x in x.split() if x not in freq.index[1]))\n",
    "\n",
    "tweets_df['text'].head()"
   ]
  },
  {
   "cell_type": "code",
   "execution_count": 32,
   "id": "761e0300",
   "metadata": {},
   "outputs": [
    {
     "name": "stdout",
     "output_type": "stream",
     "text": [
      "match                 1\n",
      "perfect               1\n",
      "say                   1\n",
      "mind                  1\n",
      "boggles               1\n",
      "httpstco7ok9poa3qs    1\n",
      "httpstcouuafagzcyg    1\n",
      "httpstcolfbvjgquin    1\n",
      "love                  1\n",
      "individually          1\n",
      "dtype: int64\n"
     ]
    },
    {
     "data": {
      "text/plain": [
       "0    todays lunch specials catawba deli include 2 c...\n",
       "1    got beans greens potatoes tomatoes lambs rams ...\n",
       "2            becoming potatoes neru httpstco3gyi1s8lt5\n",
       "3    greens beans potatoes everything else saybut s...\n",
       "4    cooking day famous cattle trail stew basically...\n",
       "Name: text, dtype: object"
      ]
     },
     "execution_count": 32,
     "metadata": {},
     "output_type": "execute_result"
    }
   ],
   "source": [
    "# Next I'll consider infrequent words\n",
    "# I only have a 100 tweets so I won't remove infrequent words just because they're infrequent\n",
    "# However, I will remove the words which start with https since these will have nothing to do with sentiment\n",
    "\n",
    "freq = pd.Series(' '.join(tweets_df['text']).split()).value_counts()[-10:]\n",
    "print(freq)\n",
    "\n",
    "words_remove = list(freq.index[freq.index.str.startswith('https')])\n",
    "\n",
    "tweets_df['text'] = tweets_df['text'].apply(lambda x: \" \".join(x for x in x.split() if x not in words_remove))\n",
    "\n",
    "tweets_df['text'].head()"
   ]
  },
  {
   "cell_type": "code",
   "execution_count": 34,
   "id": "46afd8df",
   "metadata": {},
   "outputs": [
    {
     "data": {
      "text/plain": [
       "0    today lunch special catawba delhi include 2 ch...\n",
       "1    got beans green potatoes potatoes lambs rams h...\n",
       "2            becoming potatoes peru httpstco3gyi1s8lt5\n",
       "3    green beans potatoes everything else salut soo...\n",
       "4    cooking day famous cattle trail stew basically...\n",
       "Name: text, dtype: object"
      ]
     },
     "execution_count": 34,
     "metadata": {},
     "output_type": "execute_result"
    }
   ],
   "source": [
    "# Next I'll correct spelling mistakes\n",
    "\n",
    "tweets_df['text'] = tweets_df['text'].apply(lambda x: str(TextBlob(x).correct()))\n",
    "\n",
    "tweets_df['text'].head()"
   ]
  },
  {
   "cell_type": "code",
   "execution_count": 35,
   "id": "6f315502",
   "metadata": {},
   "outputs": [
    {
     "data": {
      "text/plain": [
       "0    today lunch special catawba delhi include 2 ch...\n",
       "1    got bean green potato potato lamb ram hog dog ...\n",
       "2              becoming potato peru httpstco3gyi1s8lt5\n",
       "3    green bean potato everything else salut soon m...\n",
       "4    cooking day famous cattle trail stew basically...\n",
       "Name: text, dtype: object"
      ]
     },
     "execution_count": 35,
     "metadata": {},
     "output_type": "execute_result"
    }
   ],
   "source": [
    "# Finally I'll lematize the words\n",
    "\n",
    "tweets_df['text'] = tweets_df['text'].apply(lambda x: \" \".join([Word(word).lemmatize() for word in x.split()]))\n",
    "\n",
    "tweets_df['text'].head()"
   ]
  },
  {
   "cell_type": "code",
   "execution_count": 36,
   "id": "02861a08",
   "metadata": {},
   "outputs": [
    {
     "data": {
      "text/html": [
       "<div>\n",
       "<style scoped>\n",
       "    .dataframe tbody tr th:only-of-type {\n",
       "        vertical-align: middle;\n",
       "    }\n",
       "\n",
       "    .dataframe tbody tr th {\n",
       "        vertical-align: top;\n",
       "    }\n",
       "\n",
       "    .dataframe thead th {\n",
       "        text-align: right;\n",
       "    }\n",
       "</style>\n",
       "<table border=\"1\" class=\"dataframe\">\n",
       "  <thead>\n",
       "    <tr style=\"text-align: right;\">\n",
       "      <th></th>\n",
       "      <th>text</th>\n",
       "      <th>sentiment</th>\n",
       "    </tr>\n",
       "  </thead>\n",
       "  <tbody>\n",
       "    <tr>\n",
       "      <th>0</th>\n",
       "      <td>today lunch special catawba delhi include 2 ch...</td>\n",
       "      <td>-0.060714</td>\n",
       "    </tr>\n",
       "    <tr>\n",
       "      <th>1</th>\n",
       "      <td>got bean green potato potato lamb ram hog dog ...</td>\n",
       "      <td>-0.400000</td>\n",
       "    </tr>\n",
       "    <tr>\n",
       "      <th>2</th>\n",
       "      <td>becoming potato peru httpstco3gyi1s8lt5</td>\n",
       "      <td>0.450000</td>\n",
       "    </tr>\n",
       "    <tr>\n",
       "      <th>3</th>\n",
       "      <td>green bean potato everything else salut soon m...</td>\n",
       "      <td>-0.256250</td>\n",
       "    </tr>\n",
       "    <tr>\n",
       "      <th>4</th>\n",
       "      <td>cooking day famous cattle trail stew basically...</td>\n",
       "      <td>0.500000</td>\n",
       "    </tr>\n",
       "  </tbody>\n",
       "</table>\n",
       "</div>"
      ],
      "text/plain": [
       "                                                text  sentiment\n",
       "0  today lunch special catawba delhi include 2 ch...  -0.060714\n",
       "1  got bean green potato potato lamb ram hog dog ...  -0.400000\n",
       "2            becoming potato peru httpstco3gyi1s8lt5   0.450000\n",
       "3  green bean potato everything else salut soon m...  -0.256250\n",
       "4  cooking day famous cattle trail stew basically...   0.500000"
      ]
     },
     "execution_count": 36,
     "metadata": {},
     "output_type": "execute_result"
    }
   ],
   "source": [
    "# Now I'll produce the sentiment analysis\n",
    "\n",
    "tweets_df['sentiment'] = tweets_df['text'].apply(lambda x: TextBlob(x).sentiment[0])\n",
    "\n",
    "tweets_df[['text', 'sentiment']].head()"
   ]
  },
  {
   "cell_type": "code",
   "execution_count": 37,
   "id": "79545201",
   "metadata": {},
   "outputs": [
    {
     "data": {
      "text/plain": [
       "0.08580643939393935"
      ]
     },
     "execution_count": 37,
     "metadata": {},
     "output_type": "execute_result"
    }
   ],
   "source": [
    "tweets_df['sentiment'].mean()"
   ]
  }
 ],
 "metadata": {
  "kernelspec": {
   "display_name": "Python 3 (ipykernel)",
   "language": "python",
   "name": "python3"
  },
  "language_info": {
   "codemirror_mode": {
    "name": "ipython",
    "version": 3
   },
   "file_extension": ".py",
   "mimetype": "text/x-python",
   "name": "python",
   "nbconvert_exporter": "python",
   "pygments_lexer": "ipython3",
   "version": "3.9.12"
  }
 },
 "nbformat": 4,
 "nbformat_minor": 5
}
